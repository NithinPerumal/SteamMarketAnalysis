{
 "cells": [
  {
   "cell_type": "code",
   "execution_count": 1,
   "metadata": {
    "collapsed": false
   },
   "outputs": [],
   "source": [
    "import pandas as pd;\n",
    "import datetime as dt\n",
    "import time\n",
    "import numpy as np\n",
    "import bisect"
   ]
  },
  {
   "cell_type": "code",
   "execution_count": 27,
   "metadata": {
    "collapsed": false
   },
   "outputs": [],
   "source": [
    "dfHist = pd.read_csv('itemhistory.csv', dtype={'Craft':str, 'DateTime':dt.datetime, 'DefIndex':np.float64, 'Name':str,\n",
    "                                            'PriceIndex':str, 'QualInt':np.int64, 'Trade':str, 'currency':str,\n",
    "                                            'timestamp':np.float64, 'value':np.float64, 'value_high':np.float64})\n",
    "dfHist['DateTime'] = pd.to_datetime(dfHist['DateTime'])\n",
    "dfHist = dfHist.set_index(['Name', 'DefIndex', 'QualInt', 'Trade', 'Craft', 'PriceIndex', 'timestamp'])\n",
    "dfHist.sort_index(inplace = True)"
   ]
  },
  {
   "cell_type": "code",
   "execution_count": 28,
   "metadata": {
    "collapsed": false
   },
   "outputs": [],
   "source": [
    "#Gets the history values for keys (currency in metal)\n",
    "dfKey = dfHist.copy(deep = True).loc['Mann Co. Supply Crate Key']"
   ]
  },
  {
   "cell_type": "code",
   "execution_count": 29,
   "metadata": {
    "collapsed": false
   },
   "outputs": [],
   "source": [
    "#Gets the history values for metal (currency in USD)\n",
    "dfMetal = dfHist.copy(deep = True).loc['Refined Metal'].loc[5002].loc[6]"
   ]
  },
  {
   "cell_type": "code",
   "execution_count": 30,
   "metadata": {
    "collapsed": false
   },
   "outputs": [],
   "source": [
    "#dates is a sorted list of DateTimes, pivot is a DateTime\n",
    "#that you want to find the nearest previous date in dates\n",
    "def prevDate(dates, pivot):\n",
    "    insertNum = bisect.bisect_left(dates, pivot)\n",
    "    if (insertNum != len(dates)):\n",
    "#     if (insertNum != dates.size):\n",
    "        if (dates[insertNum] == pivot):\n",
    "            return insertNum\n",
    "    if(insertNum == 0):\n",
    "        return 0\n",
    "    return (insertNum - 1)"
   ]
  },
  {
   "cell_type": "code",
   "execution_count": 31,
   "metadata": {
    "collapsed": true
   },
   "outputs": [],
   "source": [
    "#dates is a sorted list of DateTimes, pivot is a DateTime\n",
    "#that you want to find the nearest previous date in dates\n",
    "def nextDate(dates, pivot):\n",
    "    insertNum = bisect.bisect_right(dates, pivot)\n",
    "    if insertNum > 0:\n",
    "        if (dates[insertNum - 1] == pivot):\n",
    "            return insertNum - 1\n",
    "        if (insertNum == len(dates)):\n",
    "            return insertNum - 1\n",
    "    return (insertNum)"
   ]
  },
  {
   "cell_type": "code",
   "execution_count": 32,
   "metadata": {
    "collapsed": false
   },
   "outputs": [],
   "source": [
    "dfMetalVal = dfMetal.reset_index().loc[:,'DateTime':]\n",
    "dfMetalVal.drop('currency', inplace = True, axis = 1)\n",
    "dfMetalVal['value'] = np.round((dfMetalVal['value'] + dfMetalVal['value_high'])/2, decimals = 2)\n",
    "# dfMetalVal['value'] = (dfMetalVal['value'] + dfMetalVal['value_high'])/2\n",
    "dfMetalVal.drop('value_high', inplace = True, axis = 1)"
   ]
  },
  {
   "cell_type": "code",
   "execution_count": 33,
   "metadata": {
    "collapsed": false
   },
   "outputs": [],
   "source": [
    "dfKeyVal = dfKey.copy(deep = True)"
   ]
  },
  {
   "cell_type": "code",
   "execution_count": 34,
   "metadata": {
    "collapsed": false
   },
   "outputs": [],
   "source": [
    "for ind, ser in dfKeyVal.iterrows():\n",
    "    dfKeyVal.loc[ind, 'value'] = np.float64.round(((dfMetalVal.iloc[prevDate(dfMetalVal['DateTime'], ser['DateTime'])]['value'] +\n",
    "                       dfMetalVal.iloc[nextDate(dfMetalVal['DateTime'], ser['DateTime'])]['value'])/2) * ser['value'], decimals = 2)\n",
    "    dfKeyVal.loc[ind, 'value_high'] = np.float64.round(((dfMetalVal.iloc[prevDate(dfMetalVal['DateTime'], ser['DateTime'])]['value'] +\n",
    "                       dfMetalVal.iloc[nextDate(dfMetalVal['DateTime'], ser['DateTime'])]['value'])/2) * ser['value_high'], decimals = 2)"
   ]
  },
  {
   "cell_type": "code",
   "execution_count": 35,
   "metadata": {
    "collapsed": false
   },
   "outputs": [],
   "source": [
    "dfKeyVal = dfKeyVal.reset_index().loc[:,'DateTime':]\n",
    "dfKeyVal.drop('currency', inplace = True, axis = 1)\n",
    "dfMetalVal['value'] = np.round(dfMetalVal['value'], decimals = 2)\n",
    "# dfKeyVal['value'] = (dfKeyVal['value'] + dfKeyVal['value_high'])/2\n",
    "dfKeyVal.drop('value_high', inplace = True, axis = 1)"
   ]
  },
  {
   "cell_type": "code",
   "execution_count": 38,
   "metadata": {
    "collapsed": false
   },
   "outputs": [],
   "source": [
    "for ind, ser in dfHist.iterrows():\n",
    "    if (ser['currency'] == 'metal'):\n",
    "        dfHist.loc[ind, 'value'] = np.float64.round(((dfMetalVal.iloc[prevDate(dfMetalVal['DateTime'], ser['DateTime'])]['value'] +\n",
    "                           dfMetalVal.iloc[nextDate(dfMetalVal['DateTime'], ser['DateTime'])]['value'])/2) * ser['value'], decimals = 2)\n",
    "        dfHist.loc[ind, 'value_high'] = np.float64.round(((dfMetalVal.iloc[prevDate(dfMetalVal['DateTime'], ser['DateTime'])]['value'] +\n",
    "                           dfMetalVal.iloc[nextDate(dfMetalVal['DateTime'], ser['DateTime'])]['value'])/2) * ser['value_high'], decimals = 2)\n",
    "        dfHist.loc[ind, 'currency'] = 'usd'\n",
    "    elif (ser['currency'] == 'keys'):\n",
    "        dfHist.loc[ind, 'value'] = np.float64.round(((dfKeyVal.iloc[prevDate(dfKeyVal['DateTime'], ser['DateTime'])]['value'] +\n",
    "                           dfKeyVal.iloc[nextDate(dfKeyVal['DateTime'], ser['DateTime'])]['value'])/2) * ser['value'], decimals = 2)\n",
    "        dfHist.loc[ind, 'value_high'] = np.float64.round(((dfKeyVal.iloc[prevDate(dfKeyVal['DateTime'], ser['DateTime'])]['value'] +\n",
    "                           dfKeyVal.iloc[nextDate(dfKeyVal['DateTime'], ser['DateTime'])]['value'])/2) * ser['value_high'], decimals = 2)\n",
    "        dfHist.loc[ind, 'currency'] = 'usd'"
   ]
  },
  {
   "cell_type": "code",
   "execution_count": 41,
   "metadata": {
    "collapsed": true
   },
   "outputs": [],
   "source": [
    "dfDrop = dfHist.copy(deep = True)"
   ]
  },
  {
   "cell_type": "code",
   "execution_count": 43,
   "metadata": {
    "collapsed": false
   },
   "outputs": [],
   "source": [
    "dfDrop = dfDrop[dfDrop['currency'] == 'usd']"
   ]
  },
  {
   "cell_type": "code",
   "execution_count": 46,
   "metadata": {
    "collapsed": true
   },
   "outputs": [],
   "source": [
    "#This date is the first time metal was found. Before that USD Prices are off.\n",
    "#So we drop everything before that date.\n",
    "date = pd.to_datetime(\"2013-01-20 00:49:02\")\n",
    "delta = pd.Timedelta('0 days')"
   ]
  },
  {
   "cell_type": "code",
   "execution_count": 48,
   "metadata": {
    "collapsed": true
   },
   "outputs": [],
   "source": [
    "dfDrop = dfDrop[dfDrop['DateTime'] - date >= delta]"
   ]
  },
  {
   "cell_type": "code",
   "execution_count": 52,
   "metadata": {
    "collapsed": true
   },
   "outputs": [],
   "source": [
    "dfDrop.to_csv('itemhistoryUSD.csv')"
   ]
  },
  {
   "cell_type": "code",
   "execution_count": null,
   "metadata": {
    "collapsed": true
   },
   "outputs": [],
   "source": []
  }
 ],
 "metadata": {
  "kernelspec": {
   "display_name": "Python 2",
   "language": "python",
   "name": "python2"
  },
  "language_info": {
   "codemirror_mode": {
    "name": "ipython",
    "version": 2
   },
   "file_extension": ".py",
   "mimetype": "text/x-python",
   "name": "python",
   "nbconvert_exporter": "python",
   "pygments_lexer": "ipython2",
   "version": "2.7.11"
  }
 },
 "nbformat": 4,
 "nbformat_minor": 0
}
