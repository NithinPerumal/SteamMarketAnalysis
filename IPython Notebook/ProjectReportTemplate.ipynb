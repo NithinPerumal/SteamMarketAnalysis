{
 "cells": [
  {
   "cell_type": "markdown",
   "metadata": {},
   "source": [
    "# A Descriptive Project Title\n",
    "#### Team Leader (Team Leader), Regular Member 1, Regular Member 2, etc."
   ]
  },
  {
   "cell_type": "markdown",
   "metadata": {},
   "source": [
    "### Table of Contents (Optional)\n",
    " \n",
    " * [Executive Summary](#Executive-Summary)\n",
    " * [Links](#Links)\n",
    " * [Supplement](ProjectReportSupplement.ipynb) \n"
   ]
  },
  {
   "cell_type": "markdown",
   "metadata": {},
   "source": [
    "### Executive Summary\n",
    "*The executive summary should provide a very brief background/introduction to your project. It should also list your main objectives and main results. Bullet points work well here. For example:*\n",
    "\n",
    "In this study, we investigate arithmetic progressions. Much work has already been completed on this subject, but we provide an elementary introduction.\n",
    "\n",
    "* We found that the sum $1+2+\\cdots+100$ equals 5050.\n",
    "* We also found that the sum of 100 ones, i.e. $1+1+\\cdots+1$, equals 100, but this is less interesting."
   ]
  },
  {
   "cell_type": "markdown",
   "metadata": {},
   "source": [
    "### Background or Introduction\n",
    "*In this section, you should provide a more detailed description of your project. For example you can discuss:*\n",
    "\n",
    "* detailed project objectives\n",
    "* acquiring and cleaning your data and any problems encountered and solved\n",
    "* machine learning teachniques used\n",
    "\n",
    "*People don't want to read a bunch of stuff not directly related to your project so you should strive to be brief and to the point. Every sentence should add value or it should be removed.*"
   ]
  },
  {
   "cell_type": "markdown",
   "metadata": {},
   "source": [
    "### Data Preprocessing\n",
    "*This section should be steps 1 and 2 of the OSEMN Data Mining Process. Include your commented code below. If the code is repetative, just include a representative, but working portion of your code. You can also include text cells to provide more detailed explanations.*"
   ]
  },
  {
   "cell_type": "code",
   "execution_count": 9,
   "metadata": {
    "collapsed": true
   },
   "outputs": [],
   "source": [
    "import numpy as np\n",
    "import pandas as pd"
   ]
  },
  {
   "cell_type": "code",
   "execution_count": 16,
   "metadata": {
    "collapsed": false
   },
   "outputs": [
    {
     "data": {
      "text/plain": [
       "0    1\n",
       "1    2\n",
       "2    3\n",
       "3    4\n",
       "4    5\n",
       "dtype: int64"
      ]
     },
     "execution_count": 16,
     "metadata": {},
     "output_type": "execute_result"
    }
   ],
   "source": [
    "# create a Pandas series for integers from 1 to 100\n",
    "s = pd.Series(np.arange(100)+1)\n",
    "s.head()"
   ]
  },
  {
   "cell_type": "markdown",
   "metadata": {},
   "source": [
    "### Analysis\n",
    "*This section should be steps 3 and 4 of the OSEMN Data Mining Process. In this section,  describe your data mining methods: descriptive statistics, grouping, slicing and dicing, crosstabulations, data visualization, supervised vs unsupervised machine learning, classification, clustering, association analysis, etc. Comment code cells. Include text cells for additional explanations.*"
   ]
  },
  {
   "cell_type": "code",
   "execution_count": 17,
   "metadata": {
    "collapsed": false
   },
   "outputs": [
    {
     "name": "stdout",
     "output_type": "stream",
     "text": [
      "The sum of the integers from 1 to 100 equals 5050.\n"
     ]
    }
   ],
   "source": [
    "# sum of integers from one to 100\n",
    "print 'The sum of the integers from 1 to 100 equals %d.' % s.sum()"
   ]
  },
  {
   "cell_type": "markdown",
   "metadata": {},
   "source": [
    "### Results\n",
    "*This section should be step 5 of the OSEMN Data Mining Process. Graphs work well here.*"
   ]
  },
  {
   "cell_type": "code",
   "execution_count": 19,
   "metadata": {
    "collapsed": false
   },
   "outputs": [],
   "source": [
    "import matplotlib.pyplot as plt\n",
    "import matplotlib\n",
    "matplotlib.style.use('ggplot')\n",
    "%matplotlib inline "
   ]
  },
  {
   "cell_type": "code",
   "execution_count": 24,
   "metadata": {
    "collapsed": false
   },
   "outputs": [
    {
     "data": {
      "text/plain": [
       "<matplotlib.axes._subplots.AxesSubplot at 0x7f48dcf79cd0>"
      ]
     },
     "execution_count": 24,
     "metadata": {},
     "output_type": "execute_result"
    },
    {
     "data": {
      "image/png": "[encoded data removed]",
      "text/plain": [
       "<matplotlib.figure.Figure at 0x7f48dceb47d0>"
      ]
     },
     "metadata": {},
     "output_type": "display_data"
    }
   ],
   "source": [
    "s.plot.line(title='Line')"
   ]
  },
  {
   "cell_type": "markdown",
   "metadata": {},
   "source": [
    "### Links\n",
    "*Include in your notebook links to resources and the work of others that you have used. Be sure to give credit where credit is due. If you feel it is appropriate, send/post a thank you note. Such acknowledgments are appreciated. *\n",
    "\n",
    "*If your notebook becomes too long, you can break it up into several notebooks and link them as shown:* We provide results on the sum of 100 ones in the [ProjectReportSupplement.ipynb](ProjectReportSupplement.ipynb) notebook.\n",
    "\n",
    "A useful reference: [Jupyter Notebook Users Manual](http://jupyter.cs.brynmawr.edu/hub/dblank/public/Jupyter%20Notebook%20Users%20Manual.ipynb#4.3-Hyperlinks)\n"
   ]
  },
  {
   "cell_type": "code",
   "execution_count": null,
   "metadata": {
    "collapsed": true
   },
   "outputs": [],
   "source": []
  }
 ],
 "metadata": {
  "kernelspec": {
   "display_name": "Python 2",
   "language": "python",
   "name": "python2"
  },
  "language_info": {
   "codemirror_mode": {
    "name": "ipython",
    "version": 2
   },
   "file_extension": ".py",
   "mimetype": "text/x-python",
   "name": "python",
   "nbconvert_exporter": "python",
   "pygments_lexer": "ipython2",
   "version": "2.7.11"
  }
 },
 "nbformat": 4,
 "nbformat_minor": 0
}
