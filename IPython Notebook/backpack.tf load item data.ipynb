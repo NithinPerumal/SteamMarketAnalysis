{
 "cells": [
  {
   "cell_type": "markdown",
   "metadata": {},
   "source": [
    "# Streaming Data Template"
   ]
  },
  {
   "cell_type": "markdown",
   "metadata": {},
   "source": [
    "### -----\n"
   ]
  },
  {
   "cell_type": "code",
   "execution_count": 3,
   "metadata": {
    "collapsed": false
   },
   "outputs": [
    {
     "name": "stderr",
     "output_type": "stream",
     "text": [
      "C:\\Anaconda2\\lib\\site-packages\\matplotlib\\__init__.py:872: UserWarning: axes.color_cycle is deprecated and replaced with axes.prop_cycle; please use the latter.\n",
      "  warnings.warn(self.msg_depr % (key, alt_key))\n"
     ]
    }
   ],
   "source": [
    "import requests;                                 # import package used to downlaod data from a web URL\n",
    "import json;\n",
    "import pandas as pd;\n",
    "import seaborn as sns;\n",
    "import matplotlib.pyplot as plt;\n",
    "import matplotlib;\n",
    "\n",
    "from pandas.io.json import json_normalize\n",
    "\n",
    "matplotlib.style.use('ggplot');\n",
    "%matplotlib inline"
   ]
  },
  {
   "cell_type": "code",
   "execution_count": 167,
   "metadata": {
    "collapsed": false
   },
   "outputs": [],
   "source": [
    "with open('API Keys.txt', 'r') as keyfile:\n",
    "    apiKeys=keyfile.read().split('\\n')\n",
    "   \n",
    "url = 'http://backpack.tf/api/IGetPrices/v4/?key=' + apiKeys[0];        # web address of data stream\n",
    "\n",
    "data_stream = requests.get(url,stream=True);                                    # create an iterable data stream object\n",
    "\n",
    "rec = data_stream.iter_lines().next().strip() # Necessary before reading data\n",
    "data = json.loads(rec)            # convert the json record to a python dictionary"
   ]
  },
  {
   "cell_type": "code",
   "execution_count": 168,
   "metadata": {
    "collapsed": false
   },
   "outputs": [],
   "source": [
    "def byteify(input):\n",
    "    if isinstance(input, dict):\n",
    "        return {byteify(key): byteify(value)\n",
    "                for key, value in input.iteritems()}\n",
    "    elif isinstance(input, list):\n",
    "        return [byteify(element) for element in input]\n",
    "    elif isinstance(input, unicode):\n",
    "        return input.encode('utf-8')\n",
    "    else:\n",
    "        return input\n",
    "\n",
    "data2 = byteify(data)"
   ]
  },
  {
   "cell_type": "code",
   "execution_count": 169,
   "metadata": {
    "collapsed": false
   },
   "outputs": [],
   "source": [
    "#Testing box. Useful/helps me remember. Do not remove.\n",
    "\n",
    "#dfName = json_normalize(data2['response']['items'][\"Dillinger's Duffel\"]['prices']['6']['Tradable']['Craftable']['0'])#['currency', 'difference', 'value', 'last_update'])\n",
    "# if(dfName[0][0] == 'prices'):\n",
    "#     print('Hello')\n",
    "# dfName = json_normalize(data2['response']['items'][\"Dillinger's Duffel\"], 'prices')\n",
    "# for qualInt in dfName[0]:\n",
    "#     dfTrade = json_normalize(data2['response']['items'][itemName]['prices'], qualInt)\n",
    "#dfName"
   ]
  },
  {
   "cell_type": "code",
   "execution_count": 170,
   "metadata": {
    "collapsed": false
   },
   "outputs": [],
   "source": [
    "df = json_normalize(data2['response'])"
   ]
  },
  {
   "cell_type": "code",
   "execution_count": 171,
   "metadata": {
    "collapsed": false
   },
   "outputs": [],
   "source": [
    "#Just info that the website gives us.\n",
    "\n",
    "raw_usd_value = df['raw_usd_value']\n",
    "current_time = df['current_time']\n",
    "success = df['success']\n",
    "usd_currency_index = df['usd_currency_index']\n",
    "usd_currency = df['usd_currency']"
   ]
  },
  {
   "cell_type": "code",
   "execution_count": 178,
   "metadata": {
    "collapsed": false
   },
   "outputs": [],
   "source": [
    "#Note: This is only the item data.\n",
    "#Does not get raw item data (can easily be added if we want)\n",
    "#Does not get value_high\n",
    "\n",
    "#THIS WILL TAKE >2 MINUTES TO RUN\n",
    "\n",
    "#Might be better to start with some array or something with an initial size (16K ish?)\n",
    "#then convert when it is done\n",
    "\n",
    "dfItemFinal = pd.DataFrame(columns = ['Name', 'DefIndex', 'QualInt', 'Trade', 'Craft', 'PriceIndex', 'Currency', 'Value', 'Last_Update', 'Difference'])\n",
    "df = json_normalize(data2['response'], 'items')\n",
    "for itemName in df[0]:\n",
    "    dfName = json_normalize(data2['response']['items'], [itemName])\n",
    "    if(dfName.size != 2):\n",
    "        raise Exception('More than 2 items for item' + itemName)\n",
    "    if(dfName[0][0] != 'prices'):\n",
    "        raise Exception('First row in %s is not prices' % (itemName))\n",
    "    if(dfName[0][0] != 'prices'):\n",
    "        raise Exception('Second row in %s is not defindex' % (itemName))\n",
    "    defIndex = json_normalize(data2['response']['items'][itemName], ['defindex'])[0][0]\n",
    "    dfPrices = json_normalize(data2['response']['items'][itemName], 'prices')\n",
    "    for qualInt in dfPrices[0]:\n",
    "        dfTrade = json_normalize(data2['response']['items'][itemName]['prices'], qualInt)\n",
    "        \n",
    "        for tradeable in dfTrade[0]:\n",
    "            dfCraft = json_normalize(data2['response']['items'][itemName]['prices'][qualInt], tradeable)\n",
    "        \n",
    "            for craftable in dfCraft[0]:\n",
    "                dfPriceIndex = json_normalize(data2['response']['items'][itemName]['prices'][qualInt][tradeable], craftable)\n",
    "                \n",
    "                for priceIndex in dfPriceIndex[0]:\n",
    "                    dfFinalValues = json_normalize(data2['response']['items'][itemName]['prices'][qualInt][tradeable][craftable][priceIndex])\n",
    "                    \n",
    "                    currency = dfFinalValues['currency'][0]\n",
    "                    difference = dfFinalValues['difference'][0]\n",
    "                    last_update = dfFinalValues['last_update'][0]\n",
    "                    value = dfFinalValues['value'][0]\n",
    "                    dfItemFinal.loc[len(dfItemFinal)]=[itemName, defIndex, qualInt, tradeable, craftable, priceIndex, currency, value, last_update, difference]"
   ]
  },
  {
   "cell_type": "code",
   "execution_count": 179,
   "metadata": {
    "collapsed": false
   },
   "outputs": [],
   "source": [
    "dfItemFinal.set_index(['Name', 'DefIndex', 'QualInt', 'Trade', 'Craft', 'PriceIndex'])\n",
    "dfItemFinal = dfNew.drop('Unnamed: 0', axis=1)\n",
    "dfItemFinal.sort_index(inplace = True)\n",
    "dfItemFinal.to_csv('itemOut.csv')"
   ]
  },
  {
   "cell_type": "code",
   "execution_count": 180,
   "metadata": {
    "collapsed": false
   },
   "outputs": [
    {
     "data": {
      "text/html": [
       "<div>\n",
       "<table border=\"1\" class=\"dataframe\">\n",
       "  <thead>\n",
       "    <tr style=\"text-align: right;\">\n",
       "      <th></th>\n",
       "      <th></th>\n",
       "      <th></th>\n",
       "      <th></th>\n",
       "      <th></th>\n",
       "      <th></th>\n",
       "      <th>Currency</th>\n",
       "      <th>Value</th>\n",
       "      <th>Last_Update</th>\n",
       "      <th>Difference</th>\n",
       "    </tr>\n",
       "    <tr>\n",
       "      <th>Name</th>\n",
       "      <th>DefIndex</th>\n",
       "      <th>QualInt</th>\n",
       "      <th>Trade</th>\n",
       "      <th>Craft</th>\n",
       "      <th>PriceIndex</th>\n",
       "      <th></th>\n",
       "      <th></th>\n",
       "      <th></th>\n",
       "      <th></th>\n",
       "    </tr>\n",
       "  </thead>\n",
       "  <tbody>\n",
       "    <tr>\n",
       "      <th>A Brush with Death</th>\n",
       "      <th>30186</th>\n",
       "      <th>6</th>\n",
       "      <th>Tradable</th>\n",
       "      <th>Craftable</th>\n",
       "      <th>0</th>\n",
       "      <td>metal</td>\n",
       "      <td>5.0</td>\n",
       "      <td>1452896758</td>\n",
       "      <td>0.50000</td>\n",
       "    </tr>\n",
       "    <tr>\n",
       "      <th>A Color Similar to Slate</th>\n",
       "      <th>5052</th>\n",
       "      <th>6</th>\n",
       "      <th>Tradable</th>\n",
       "      <th>Craftable</th>\n",
       "      <th>0</th>\n",
       "      <td>metal</td>\n",
       "      <td>7.0</td>\n",
       "      <td>1440546430</td>\n",
       "      <td>0.50000</td>\n",
       "    </tr>\n",
       "    <tr>\n",
       "      <th>A Deep Commitment to Purple</th>\n",
       "      <th>5031</th>\n",
       "      <th>6</th>\n",
       "      <th>Tradable</th>\n",
       "      <th>Craftable</th>\n",
       "      <th>0</th>\n",
       "      <td>metal</td>\n",
       "      <td>8.0</td>\n",
       "      <td>1452282722</td>\n",
       "      <td>2.83500</td>\n",
       "    </tr>\n",
       "    <tr>\n",
       "      <th rowspan=\"2\" valign=\"top\">A Distinctive Lack of Hue</th>\n",
       "      <th rowspan=\"2\" valign=\"top\">5040</th>\n",
       "      <th rowspan=\"2\" valign=\"top\">6</th>\n",
       "      <th rowspan=\"2\" valign=\"top\">Tradable</th>\n",
       "      <th>Craftable</th>\n",
       "      <th>0</th>\n",
       "      <td>keys</td>\n",
       "      <td>1.2</td>\n",
       "      <td>1454010649</td>\n",
       "      <td>-4.62375</td>\n",
       "    </tr>\n",
       "    <tr>\n",
       "      <th>Non-Craftable</th>\n",
       "      <th>0</th>\n",
       "      <td>metal</td>\n",
       "      <td>11.0</td>\n",
       "      <td>1453070238</td>\n",
       "      <td>-2.00000</td>\n",
       "    </tr>\n",
       "    <tr>\n",
       "      <th rowspan=\"2\" valign=\"top\">A Hat to Kill For</th>\n",
       "      <th rowspan=\"2\" valign=\"top\">30753</th>\n",
       "      <th>6</th>\n",
       "      <th>Tradable</th>\n",
       "      <th>Craftable</th>\n",
       "      <th>0</th>\n",
       "      <td>metal</td>\n",
       "      <td>6.0</td>\n",
       "      <td>1453625734</td>\n",
       "      <td>-0.33000</td>\n",
       "    </tr>\n",
       "    <tr>\n",
       "      <th>11</th>\n",
       "      <th>Tradable</th>\n",
       "      <th>Craftable</th>\n",
       "      <th>0</th>\n",
       "      <td>metal</td>\n",
       "      <td>14.0</td>\n",
       "      <td>1453940329</td>\n",
       "      <td>14.50000</td>\n",
       "    </tr>\n",
       "    <tr>\n",
       "      <th>A Head Full of Hot Air</th>\n",
       "      <th>30662</th>\n",
       "      <th>5</th>\n",
       "      <th>Tradable</th>\n",
       "      <th>Craftable</th>\n",
       "      <th>91</th>\n",
       "      <td>keys</td>\n",
       "      <td>46.0</td>\n",
       "      <td>1449066881</td>\n",
       "      <td>940.50000</td>\n",
       "    </tr>\n",
       "  </tbody>\n",
       "</table>\n",
       "</div>"
      ],
      "text/plain": [
       "                                                                               Currency  \\\n",
       "Name                        DefIndex QualInt Trade    Craft         PriceIndex            \n",
       "A Brush with Death          30186    6       Tradable Craftable     0             metal   \n",
       "A Color Similar to Slate    5052     6       Tradable Craftable     0             metal   \n",
       "A Deep Commitment to Purple 5031     6       Tradable Craftable     0             metal   \n",
       "A Distinctive Lack of Hue   5040     6       Tradable Craftable     0              keys   \n",
       "                                                      Non-Craftable 0             metal   \n",
       "A Hat to Kill For           30753    6       Tradable Craftable     0             metal   \n",
       "                                     11      Tradable Craftable     0             metal   \n",
       "A Head Full of Hot Air      30662    5       Tradable Craftable     91             keys   \n",
       "\n",
       "                                                                                Value  \\\n",
       "Name                        DefIndex QualInt Trade    Craft         PriceIndex          \n",
       "A Brush with Death          30186    6       Tradable Craftable     0             5.0   \n",
       "A Color Similar to Slate    5052     6       Tradable Craftable     0             7.0   \n",
       "A Deep Commitment to Purple 5031     6       Tradable Craftable     0             8.0   \n",
       "A Distinctive Lack of Hue   5040     6       Tradable Craftable     0             1.2   \n",
       "                                                      Non-Craftable 0            11.0   \n",
       "A Hat to Kill For           30753    6       Tradable Craftable     0             6.0   \n",
       "                                     11      Tradable Craftable     0            14.0   \n",
       "A Head Full of Hot Air      30662    5       Tradable Craftable     91           46.0   \n",
       "\n",
       "                                                                                Last_Update  \\\n",
       "Name                        DefIndex QualInt Trade    Craft         PriceIndex                \n",
       "A Brush with Death          30186    6       Tradable Craftable     0            1452896758   \n",
       "A Color Similar to Slate    5052     6       Tradable Craftable     0            1440546430   \n",
       "A Deep Commitment to Purple 5031     6       Tradable Craftable     0            1452282722   \n",
       "A Distinctive Lack of Hue   5040     6       Tradable Craftable     0            1454010649   \n",
       "                                                      Non-Craftable 0            1453070238   \n",
       "A Hat to Kill For           30753    6       Tradable Craftable     0            1453625734   \n",
       "                                     11      Tradable Craftable     0            1453940329   \n",
       "A Head Full of Hot Air      30662    5       Tradable Craftable     91           1449066881   \n",
       "\n",
       "                                                                                Difference  \n",
       "Name                        DefIndex QualInt Trade    Craft         PriceIndex              \n",
       "A Brush with Death          30186    6       Tradable Craftable     0              0.50000  \n",
       "A Color Similar to Slate    5052     6       Tradable Craftable     0              0.50000  \n",
       "A Deep Commitment to Purple 5031     6       Tradable Craftable     0              2.83500  \n",
       "A Distinctive Lack of Hue   5040     6       Tradable Craftable     0             -4.62375  \n",
       "                                                      Non-Craftable 0             -2.00000  \n",
       "A Hat to Kill For           30753    6       Tradable Craftable     0             -0.33000  \n",
       "                                     11      Tradable Craftable     0             14.50000  \n",
       "A Head Full of Hot Air      30662    5       Tradable Craftable     91           940.50000  "
      ]
     },
     "execution_count": 180,
     "metadata": {},
     "output_type": "execute_result"
    }
   ],
   "source": [
    "dfNew = pd.read_csv('itemOut.csv')\n",
    "dfNew = dfNew.set_index(['Name', 'DefIndex', 'QualInt', 'Trade', 'Craft', 'PriceIndex'])\n",
    "dfNew.sort_index(inplace = True)\n",
    "dfNew.head(8)"
   ]
  },
  {
   "cell_type": "code",
   "execution_count": 198,
   "metadata": {
    "collapsed": false
   },
   "outputs": [],
   "source": [
    "#Could be useful if a json ends up with a lot of data in one column\n",
    "\n",
    "def flattenColumn(input, column):\n",
    "    column_flat = pd.DataFrame([[i, c_flattened] for i, y in input[column].apply(list).iteritems() for c_flattened in y], columns=['I', column])\n",
    "    column_flat = column_flat.set_index('I')\n",
    "    return input.drop(column, 1).merge(column_flat, left_index=True, right_index=True)"
   ]
  },
  {
   "cell_type": "code",
   "execution_count": 202,
   "metadata": {
    "collapsed": false
   },
   "outputs": [],
   "source": [
    "# df = json_normalize(data2['response'])\n",
    "# new_df = flattenColumn(df, 'items.A Brush with Death.defindex')"
   ]
  },
  {
   "cell_type": "code",
   "execution_count": null,
   "metadata": {
    "collapsed": true
   },
   "outputs": [],
   "source": []
  }
 ],
 "metadata": {
  "kernelspec": {
   "display_name": "Python 2",
   "language": "python",
   "name": "python2"
  },
  "language_info": {
   "codemirror_mode": {
    "name": "ipython",
    "version": 2
   },
   "file_extension": ".py",
   "mimetype": "text/x-python",
   "name": "python",
   "nbconvert_exporter": "python",
   "pygments_lexer": "ipython2",
   "version": "2.7.11"
  }
 },
 "nbformat": 4,
 "nbformat_minor": 0
}
