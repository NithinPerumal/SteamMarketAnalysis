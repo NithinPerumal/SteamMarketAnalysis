{
 "cells": [
  {
   "cell_type": "markdown",
   "metadata": {},
   "source": [
    "# Steam Marketplace Analysis\n",
    "\n",
    "#### Jacob Knispel (Team Lead), Nithin Perumal, Alec Tiefenthal, Matt Buckner"
   ]
  },
  {
   "cell_type": "markdown",
   "metadata": {},
   "source": [
    "### Table of Contents"
   ]
  },
  {
   "cell_type": "markdown",
   "metadata": {},
   "source": [
    "* [Executive Summary](http://localhost:8888/notebooks/ReportDraft.ipynb#Executive-Summary)\n",
    "* [Introduction](http://localhost:8888/notebooks/ReportDraft.ipynb#Introduction)\n",
    "* [Data Preprocessing](http://localhost:8888/notebooks/ReportDraft.ipynb#Data-Preprocessing)\n",
    "* [Analysis](http://localhost:8888/notebooks/ReportDraft.ipynb#Analysis)\n",
    "* [Results](http://localhost:8888/notebooks/ReportDraft.ipynb#Results)\n",
    "* [Links](http://localhost:8888/notebooks/ReportDraft.ipynb#Links)\n",
    "* [Disclaimer](http://localhost:8888/notebooks/ReportDraft.ipynb#Dislaimer)"
   ]
  },
  {
   "cell_type": "markdown",
   "metadata": {},
   "source": [
    "## Executive Summary"
   ]
  },
  {
   "cell_type": "markdown",
   "metadata": {},
   "source": [
    "In this project, we seek to examine the data provided by **Valve Software** pertaining to their online digital economy of in-game items in their game **Team Fortress 2** in the attempt to locate statistically interesting anomalies or trends that may not be immediately obvious to the outside observer."
   ]
  },
  {
   "cell_type": "markdown",
   "metadata": {},
   "source": [
    "## Introduction"
   ]
  },
  {
   "cell_type": "code",
   "execution_count": null,
   "metadata": {
    "collapsed": true
   },
   "outputs": [],
   "source": []
  },
  {
   "cell_type": "markdown",
   "metadata": {},
   "source": [
    "## Data Preprocessing"
   ]
  },
  {
   "cell_type": "code",
   "execution_count": null,
   "metadata": {
    "collapsed": true
   },
   "outputs": [],
   "source": [
    "import requests;                                 # import package used to downlaod data from a web URL\n",
    "import json;\n",
    "import pandas as pd;\n",
    "import seaborn as sns;\n",
    "import matplotlib.pyplot as plt;                 # import all tools used to examine and plot the data\n",
    "import matplotlib;\n",
    "from bokeh.charts import Scatter, show\n",
    "from bokeh.io import output_notebook\n",
    "output_notebook()\n",
    "\n",
    "from pandas.io.json import json_normalize\n",
    "\n",
    "matplotlib.style.use('ggplot');\n",
    "%matplotlib inline"
   ]
  },
  {
   "cell_type": "markdown",
   "metadata": {},
   "source": [
    "The following lines utilize the API calls and key to download and store the data for examination"
   ]
  },
  {
   "cell_type": "code",
   "execution_count": null,
   "metadata": {
    "collapsed": true
   },
   "outputs": [],
   "source": [
    "with open('API Keys.txt', 'r') as keyfile:                              # This key was requested from Valve\n",
    "    apiKeys=keyfile.read().split('\\n')                                  # The specfic key utilized is included\n",
    "   \n",
    "url = 'http://backpack.tf/api/IGetPrices/v4/?key=' + apiKeys[0];        # web address of data stream\n",
    "\n",
    "data_stream = requests.get(url,stream=True);                            # create an iterable data stream object\n",
    "\n",
    "rec = data_stream.iter_lines().next().strip()                           # Necessary before reading data\n",
    "data = json.loads(rec)                                                  # convert the json record to a python dictionary"
   ]
  },
  {
   "cell_type": "code",
   "execution_count": null,
   "metadata": {
    "collapsed": true
   },
   "outputs": [],
   "source": [
    "def byteify(input):\n",
    "    if isinstance(input, dict):\n",
    "        return {byteify(key): byteify(value)\n",
    "                for key, value in input.iteritems()}\n",
    "    elif isinstance(input, list):\n",
    "        return [byteify(element) for element in input]\n",
    "    elif isinstance(input, unicode):\n",
    "        return input.encode('utf-8')\n",
    "    else:\n",
    "        return input\n",
    "\n",
    "data2 = byteify(data)"
   ]
  },
  {
   "cell_type": "code",
   "execution_count": null,
   "metadata": {
    "collapsed": true
   },
   "outputs": [],
   "source": [
    "df = json_normalize(data2['response'])"
   ]
  },
  {
   "cell_type": "code",
   "execution_count": null,
   "metadata": {
    "collapsed": true
   },
   "outputs": [],
   "source": [
    "#Define values provided by Valve.\n",
    "\n",
    "raw_usd_value = df['raw_usd_value']\n",
    "current_time = df['current_time']\n",
    "success = df['success']\n",
    "usd_currency_index = df['usd_currency_index']\n",
    "usd_currency = df['usd_currency']"
   ]
  },
  {
   "cell_type": "code",
   "execution_count": null,
   "metadata": {
    "collapsed": true
   },
   "outputs": [],
   "source": [
    "#Import the item data\n",
    "\n",
    "#THIS WILL TAKE >2 MINUTES TO RUN\n",
    "\n",
    "dfItemFinal = pd.DataFrame(columns = ['Name', 'DefIndex', 'QualInt', 'Trade', 'Craft', 'PriceIndex', 'Currency', 'Value', 'Last_Update', 'Difference'])\n",
    "df = json_normalize(data2['response'], 'items')\n",
    "for itemName in df[0]:\n",
    "    dfName = json_normalize(data2['response']['items'], [itemName])\n",
    "    if(dfName.size != 2):\n",
    "        raise Exception('More than 2 items for item' + itemName)\n",
    "    if(dfName[0][0] != 'prices'):\n",
    "        raise Exception('First row in %s is not prices' % (itemName))\n",
    "    if(dfName[0][0] != 'prices'):\n",
    "        raise Exception('Second row in %s is not defindex' % (itemName))\n",
    "    defIndex = json_normalize(data2['response']['items'][itemName], ['defindex'])[0][0]\n",
    "    dfPrices = json_normalize(data2['response']['items'][itemName], 'prices')\n",
    "    for qualInt in dfPrices[0]:\n",
    "        dfTrade = json_normalize(data2['response']['items'][itemName]['prices'], qualInt)\n",
    "        \n",
    "        for tradeable in dfTrade[0]:\n",
    "            dfCraft = json_normalize(data2['response']['items'][itemName]['prices'][qualInt], tradeable)\n",
    "        \n",
    "            for craftable in dfCraft[0]:\n",
    "                dfPriceIndex = json_normalize(data2['response']['items'][itemName]['prices'][qualInt][tradeable], craftable)\n",
    "                \n",
    "                for priceIndex in dfPriceIndex[0]:\n",
    "                    dfFinalValues = json_normalize(data2['response']['items'][itemName]['prices'][qualInt][tradeable][craftable][priceIndex])\n",
    "                    \n",
    "                    currency = dfFinalValues['currency'][0]\n",
    "                    difference = dfFinalValues['difference'][0]\n",
    "                    last_update = dfFinalValues['last_update'][0]\n",
    "                    value = dfFinalValues['value'][0]\n",
    "                    dfItemFinal.loc[len(dfItemFinal)]=[itemName, defIndex, qualInt, tradeable, craftable, priceIndex, currency, value, last_update, difference]"
   ]
  },
  {
   "cell_type": "code",
   "execution_count": null,
   "metadata": {
    "collapsed": true
   },
   "outputs": [],
   "source": [
    "#Store the item data in an csv file for formatting and examinination\n",
    "\n",
    "dfItemFinal.set_index(['Name', 'DefIndex', 'QualInt', 'Trade', 'Craft', 'PriceIndex'])\n",
    "#dfItemFinal = dfItemFinal.drop('Unnamed: 0', axis=1)\n",
    "dfItemFinal.sort_index(inplace = True)\n",
    "dfItemFinal.to_csv('itemOut.csv')"
   ]
  },
  {
   "cell_type": "markdown",
   "metadata": {},
   "source": [
    "Once the data is stored in a .csv file, the following line prepares it for examination.\n",
    "If a set of data has already been prepared, one may skip directly to this point to begin working with the dataset."
   ]
  },
  {
   "cell_type": "code",
   "execution_count": null,
   "metadata": {
    "collapsed": true
   },
   "outputs": [],
   "source": [
    "#Move to our primary dataframe and access our item data\n",
    "\n",
    "dfNew = pd.read_csv('itemOut.csv')\n",
    "#dfNew = dfNew.set_index(['Name', 'DefIndex', 'QualInt', 'Trade', 'Craft', 'PriceIndex'])\n",
    "dfNew = dfNew.drop('Unnamed: 0', axis=1)\n",
    "dfNew.sort_index(inplace = True)"
   ]
  },
  {
   "cell_type": "markdown",
   "metadata": {},
   "source": [
    "## Analysis"
   ]
  },
  {
   "cell_type": "code",
   "execution_count": null,
   "metadata": {
    "collapsed": true
   },
   "outputs": [],
   "source": [
    "dfKeys = dfNew[dfNew['Currency'] == 'keys']\n",
    "dfAllUnusuals = dfKeys[dfKeys['QualInt'] == 5]\n",
    "dfUnusuals = dfAllUnusuals[dfAllUnusuals['Value'] < 200] # Remove obvious outliers\n",
    "ax = dfUnusuals['Value'].plot(kind='hist', title='Distribution of Unusual Item Prices', bins=100)\n",
    "ax.set_xlabel(\"Price in Keys\")\n",
    "ax.set_ylabel(\"Number of Items\")"
   ]
  },
  {
   "cell_type": "markdown",
   "metadata": {},
   "source": [
    "It's obvious from this graph that unusual items rarely sell for less than 5 or 6 keys, but most of them are sold for around 10 keys. This phenomenon can be explained very simply -- in order to get an unusual, a player must actually use a key to open something called a crate. They have a 1.00% chance to get an unusual item in return. \n",
    "\n",
    "For this reason, it wouldn't make sense for unusual items to sell for anywhere close to 1 key, because all unusuals, no matter how little people like them, are rarer than keys, which can be bought from the store via microtransactions (for $2.50)¶"
   ]
  },
  {
   "cell_type": "code",
   "execution_count": null,
   "metadata": {
    "collapsed": true
   },
   "outputs": [],
   "source": [
    "dfUnusuals = dfUnusuals[dfUnusuals['Value'] < 100] # Zoom\n",
    "dfUnusuals = dfUnusuals[dfUnusuals['Value'] > 50] # Zooom!\n",
    "ax = dfUnusuals['Value'].plot(kind='hist', title='Distribution of Unusual Item Prices (Zoomed!)', bins=30)\n",
    "ax.set_xlabel(\"Price in Keys\")\n",
    "ax.set_ylabel(\"Number of Items\")"
   ]
  },
  {
   "cell_type": "markdown",
   "metadata": {},
   "source": [
    "It's interesting to note that, because the prices are defined freely by humans (by however much people decide to sell their items for), there is a great tendency for prices to fall on or near values that are multiples of 5. For example, looking at the range 70-80 keys, there are spikes at 70 keys, 75 keys, and 80 keys. \n",
    "\n",
    "- - -\n",
    "\n",
    "Even the smaller spikes in-between the multiples of 5 can be explained -- these are at 73.33 and 76.66 from our range defined before. \n",
    "\n",
    "Why? Items on the TF2 market are often priced at values like '2.33 keys' or '1.66 refined metal' because these are more convenient to split that the obscure fractions the 'true price' usually lands on. "
   ]
  },
  {
   "cell_type": "code",
   "execution_count": null,
   "metadata": {
    "collapsed": true
   },
   "outputs": [],
   "source": [
    "dfMetal = dfNew[dfNew['Currency'] == 'metal']\n",
    "dfAllUniques = dfMetal[dfMetal['QualInt'] == 6]\n",
    "dfUniques = dfAllUniques[dfAllUniques['Value'] < 15] # Remove obvious outliers\n",
    "ax = dfUniques['Value'].plot(kind='hist', title='Distribution of Unique Item Prices', bins=30)\n",
    "ax.set_xlabel(\"Price in Refined Metal\")\n",
    "ax.set_ylabel(\"Number of Items\")"
   ]
  },
  {
   "cell_type": "markdown",
   "metadata": {},
   "source": [
    "Similar to the previous graph, we can clearly see that unique items tend to sell for easily-divisible values. However, refined metal can actually be split in-game, always into 3 parts. Therefore, prices are almost always multiples of three -- the most common price for a unique item is 0.33 refined metal, which is equivalent to a single piece of a split refined metal. \n",
    "\n",
    "- - -\n",
    "\n",
    "It's also interesting to note here how much cheaper unique items tend to be compared to unusuals. A unique item costs, on average, 2.60 refined metal. In comparison, the average unusual item costs a whopping 1392.24 refined metal! "
   ]
  },
  {
   "cell_type": "code",
   "execution_count": null,
   "metadata": {
    "collapsed": true
   },
   "outputs": [],
   "source": []
  },
  {
   "cell_type": "markdown",
   "metadata": {},
   "source": [
    "## Results"
   ]
  },
  {
   "cell_type": "code",
   "execution_count": null,
   "metadata": {
    "collapsed": true
   },
   "outputs": [],
   "source": [
    "print('Average unique item metal cost: %0.2f' % (dfAllUniques['Value'].mean()))\n",
    "refinedMetalPerKey = dfAllUniques[dfAllUniques['Name'] == 'Mann Co. Supply Crate Key']['Value']\n",
    "print('Average unusual item metal cost: %0.2f' % (dfAllUnusuals['Value'].mean() * refinedMetalPerKey))\n",
    "dfAllUnusuals['Value'].mean()"
   ]
  },
  {
   "cell_type": "code",
   "execution_count": null,
   "metadata": {
    "collapsed": true
   },
   "outputs": [],
   "source": []
  },
  {
   "cell_type": "markdown",
   "metadata": {},
   "source": [
    "## Links"
   ]
  },
  {
   "cell_type": "markdown",
   "metadata": {},
   "source": [
    "[API keys.txt](https://github.com/NithinPerumal/SteamMarketAnalysis/blob/master/IPython%20Notebook/API%20Keys.txt \"API keys.txt\")\n",
    "\n",
    "[Sample CSV dataset](https://github.com/NithinPerumal/SteamMarketAnalysis/blob/master/IPython%20Notebook/itemOut.csv \" itemOut.csv\")\n",
    "\n",
    "[Known Quality Interger Meanings](https://github.com/NithinPerumal/SteamMarketAnalysis/blob/master/IPython%20Notebook/Known%20Quality%20Integer%20Meanings.txt \"Known Quality Interger Meanings\")"
   ]
  },
  {
   "cell_type": "code",
   "execution_count": null,
   "metadata": {
    "collapsed": true
   },
   "outputs": [],
   "source": []
  },
  {
   "cell_type": "markdown",
   "metadata": {},
   "source": [
    "## Disclaimer\n",
    "\n",
    "All data examined has been freely provided by Valve Software via their APIs for the purpose of allowing users to examine this publicly available information."
   ]
  },
  {
   "cell_type": "markdown",
   "metadata": {},
   "source": [
    "[Powered by Steam](http://steampowered.com)"
   ]
  }
 ],
 "metadata": {
  "kernelspec": {
   "display_name": "Python 2",
   "language": "python",
   "name": "python2"
  },
  "language_info": {
   "codemirror_mode": {
    "name": "ipython",
    "version": 2
   },
   "file_extension": ".py",
   "mimetype": "text/x-python",
   "name": "python",
   "nbconvert_exporter": "python",
   "pygments_lexer": "ipython2",
   "version": "2.7.10"
  }
 },
 "nbformat": 4,
 "nbformat_minor": 0
}
