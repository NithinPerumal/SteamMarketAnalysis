{
 "cells": [
  {
   "cell_type": "markdown",
   "metadata": {},
   "source": [
    "# Steam Marketplace Analysis\n",
    "\n",
    "#### Jacob Knispel (Team Lead), Nithin Perumal, Alec Tiefenthal, Matt Buckner"
   ]
  },
  {
   "cell_type": "markdown",
   "metadata": {},
   "source": [
    "### Table of Contents"
   ]
  },
  {
   "cell_type": "markdown",
   "metadata": {},
   "source": [
    "* [Executive Summary](http://localhost:8888/notebooks/ReportDraft.ipynb#Executive-Summary)\n",
    "* [Introduction](http://localhost:8888/notebooks/ReportDraft.ipynb#Introduction)\n",
    "* [Data Preprocessing](http://localhost:8888/notebooks/ReportDraft.ipynb#Data-Preprocessing)\n",
    "* [Analysis](http://localhost:8888/notebooks/ReportDraft.ipynb#Analysis)\n",
    "* [Results](http://localhost:8888/notebooks/ReportDraft.ipynb#Results)\n",
    "* [Links](http://localhost:8888/notebooks/ReportDraft.ipynb#Links)\n",
    "* [Disclaimer](http://localhost:8888/notebooks/ReportDraft.ipynb#Dislaimer)"
   ]
  },
  {
   "cell_type": "markdown",
   "metadata": {},
   "source": [
    "## Executive Summary"
   ]
  },
  {
   "cell_type": "markdown",
   "metadata": {},
   "source": [
    "In this project, we seek to examine the data provided by Valve Software pertaining to their online digital economy of in-game items in their game Team Fortress 2 in the attempt to locate statistically interesting anomalies or trends that may not be immediately obvious to the outside observer."
   ]
  },
  {
   "cell_type": "markdown",
   "metadata": {},
   "source": [
    "## Introduction"
   ]
  },
  {
   "cell_type": "code",
   "execution_count": null,
   "metadata": {
    "collapsed": true
   },
   "outputs": [],
   "source": []
  },
  {
   "cell_type": "markdown",
   "metadata": {},
   "source": [
    "## Data Preprocessing"
   ]
  },
  {
   "cell_type": "code",
   "execution_count": null,
   "metadata": {
    "collapsed": true
   },
   "outputs": [],
   "source": []
  },
  {
   "cell_type": "markdown",
   "metadata": {},
   "source": [
    "## Analysis"
   ]
  },
  {
   "cell_type": "code",
   "execution_count": null,
   "metadata": {
    "collapsed": true
   },
   "outputs": [],
   "source": []
  },
  {
   "cell_type": "markdown",
   "metadata": {},
   "source": [
    "## Results"
   ]
  },
  {
   "cell_type": "code",
   "execution_count": null,
   "metadata": {
    "collapsed": true
   },
   "outputs": [],
   "source": []
  },
  {
   "cell_type": "markdown",
   "metadata": {},
   "source": [
    "## Links"
   ]
  },
  {
   "cell_type": "code",
   "execution_count": null,
   "metadata": {
    "collapsed": true
   },
   "outputs": [],
   "source": []
  },
  {
   "cell_type": "markdown",
   "metadata": {},
   "source": [
    "## Disclaimer\n",
    "\n",
    "All data examined has been freely provided by Valve Software via their APIs for the purpose of allowing users to examine this publicly available information."
   ]
  },
  {
   "cell_type": "markdown",
   "metadata": {},
   "source": [
    "[Powered by Steam](http://steampowered.com)"
   ]
  }
 ],
 "metadata": {
  "kernelspec": {
   "display_name": "Python 2",
   "language": "python",
   "name": "python2"
  },
  "language_info": {
   "codemirror_mode": {
    "name": "ipython",
    "version": 2
   },
   "file_extension": ".py",
   "mimetype": "text/x-python",
   "name": "python",
   "nbconvert_exporter": "python",
   "pygments_lexer": "ipython2",
   "version": "2.7.10"
  }
 },
 "nbformat": 4,
 "nbformat_minor": 0
}
