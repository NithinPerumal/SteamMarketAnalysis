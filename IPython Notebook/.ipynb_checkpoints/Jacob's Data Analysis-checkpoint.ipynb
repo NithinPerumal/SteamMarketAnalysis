{
 "cells": [
  {
   "cell_type": "markdown",
   "metadata": {},
   "source": [
    "# Streaming Data Template"
   ]
  },
  {
   "cell_type": "markdown",
   "metadata": {},
   "source": [
    "### -----\n"
   ]
  },
  {
   "cell_type": "code",
   "execution_count": 1,
   "metadata": {
    "collapsed": false
   },
   "outputs": [
    {
     "name": "stderr",
     "output_type": "stream",
     "text": [
      "C:\\Users\\knispeja\\Anaconda2\\lib\\site-packages\\matplotlib\\__init__.py:872: UserWarning: axes.color_cycle is deprecated and replaced with axes.prop_cycle; please use the latter.\n",
      "  warnings.warn(self.msg_depr % (key, alt_key))\n"
     ]
    }
   ],
   "source": [
    "import requests;                                 # import package used to downlaod data from a web URL\n",
    "import json;\n",
    "import pandas as pd;\n",
    "import seaborn as sns;\n",
    "import matplotlib.pyplot as plt;\n",
    "import matplotlib;\n",
    "\n",
    "from pandas.io.json import json_normalize\n",
    "\n",
    "matplotlib.style.use('ggplot');\n",
    "%matplotlib inline"
   ]
  },
  {
   "cell_type": "code",
   "execution_count": 2,
   "metadata": {
    "collapsed": false
   },
   "outputs": [],
   "source": [
    "with open('API Keys.txt', 'r') as keyfile:\n",
    "    apiKeys=keyfile.read().split('\\n')\n",
    "   \n",
    "url = 'http://backpack.tf/api/IGetPrices/v4/?key=' + apiKeys[0];        # web address of data stream\n",
    "\n",
    "data_stream = requests.get(url,stream=True);                                    # create an iterable data stream object\n",
    "\n",
    "rec = data_stream.iter_lines().next().strip() # Necessary before reading data\n",
    "data = json.loads(rec)            # convert the json record to a python dictionary"
   ]
  },
  {
   "cell_type": "code",
   "execution_count": 3,
   "metadata": {
    "collapsed": false
   },
   "outputs": [],
   "source": [
    "def byteify(input):\n",
    "    if isinstance(input, dict):\n",
    "        return {byteify(key): byteify(value)\n",
    "                for key, value in input.iteritems()}\n",
    "    elif isinstance(input, list):\n",
    "        return [byteify(element) for element in input]\n",
    "    elif isinstance(input, unicode):\n",
    "        return input.encode('utf-8')\n",
    "    else:\n",
    "        return input\n",
    "\n",
    "data2 = byteify(data)"
   ]
  },
  {
   "cell_type": "code",
   "execution_count": 4,
   "metadata": {
    "collapsed": false
   },
   "outputs": [],
   "source": [
    "#Testing box. Useful/helps me remember. Do not remove.\n",
    "\n",
    "#dfName = json_normalize(data2['response']['items'][\"Dillinger's Duffel\"]['prices']['6']['Tradable']['Craftable']['0'])#['currency', 'difference', 'value', 'last_update'])\n",
    "# if(dfName[0][0] == 'prices'):\n",
    "#     print('Hello')\n",
    "# dfName = json_normalize(data2['response']['items'][\"Dillinger's Duffel\"], 'prices')\n",
    "# for qualInt in dfName[0]:\n",
    "#     dfTrade = json_normalize(data2['response']['items'][itemName]['prices'], qualInt)\n",
    "#dfName"
   ]
  },
  {
   "cell_type": "code",
   "execution_count": 5,
   "metadata": {
    "collapsed": false
   },
   "outputs": [],
   "source": [
    "df = json_normalize(data2['response'])"
   ]
  },
  {
   "cell_type": "code",
   "execution_count": 6,
   "metadata": {
    "collapsed": false
   },
   "outputs": [],
   "source": [
    "#Just info that the website gives us.\n",
    "\n",
    "raw_usd_value = df['raw_usd_value']\n",
    "current_time = df['current_time']\n",
    "success = df['success']\n",
    "usd_currency_index = df['usd_currency_index']\n",
    "usd_currency = df['usd_currency']"
   ]
  },
  {
   "cell_type": "code",
   "execution_count": 7,
   "metadata": {
    "collapsed": false
   },
   "outputs": [],
   "source": [
    "#Note: This is only the item data.\n",
    "#Does not get raw item data (can easily be added if we want)\n",
    "#Does not get value_high\n",
    "\n",
    "#THIS WILL TAKE >2 MINUTES TO RUN\n",
    "\n",
    "#Might be better to start with some array or something with an initial size (16K ish?)\n",
    "#then convert when it is done\n",
    "\n",
    "dfItemFinal = pd.DataFrame(columns = ['Name', 'DefIndex', 'QualInt', 'Trade', 'Craft', 'PriceIndex', 'Currency', 'Value', 'Last_Update', 'Difference'])\n",
    "df = json_normalize(data2['response'], 'items')\n",
    "for itemName in df[0]:\n",
    "    dfName = json_normalize(data2['response']['items'], [itemName])\n",
    "    if(dfName.size != 2):\n",
    "        raise Exception('More than 2 items for item' + itemName)\n",
    "    if(dfName[0][0] != 'prices'):\n",
    "        raise Exception('First row in %s is not prices' % (itemName))\n",
    "    if(dfName[0][0] != 'prices'):\n",
    "        raise Exception('Second row in %s is not defindex' % (itemName))\n",
    "    defIndex = json_normalize(data2['response']['items'][itemName], ['defindex'])[0][0]\n",
    "    dfPrices = json_normalize(data2['response']['items'][itemName], 'prices')\n",
    "    for qualInt in dfPrices[0]:\n",
    "        dfTrade = json_normalize(data2['response']['items'][itemName]['prices'], qualInt)\n",
    "        \n",
    "        for tradeable in dfTrade[0]:\n",
    "            dfCraft = json_normalize(data2['response']['items'][itemName]['prices'][qualInt], tradeable)\n",
    "        \n",
    "            for craftable in dfCraft[0]:\n",
    "                dfPriceIndex = json_normalize(data2['response']['items'][itemName]['prices'][qualInt][tradeable], craftable)\n",
    "                \n",
    "                for priceIndex in dfPriceIndex[0]:\n",
    "                    dfFinalValues = json_normalize(data2['response']['items'][itemName]['prices'][qualInt][tradeable][craftable][priceIndex])\n",
    "                    \n",
    "                    currency = dfFinalValues['currency'][0]\n",
    "                    difference = dfFinalValues['difference'][0]\n",
    "                    last_update = dfFinalValues['last_update'][0]\n",
    "                    value = dfFinalValues['value'][0]\n",
    "                    dfItemFinal.loc[len(dfItemFinal)]=[itemName, defIndex, qualInt, tradeable, craftable, priceIndex, currency, value, last_update, difference]"
   ]
  },
  {
   "cell_type": "code",
   "execution_count": 42,
   "metadata": {
    "collapsed": false
   },
   "outputs": [
    {
     "data": {
      "text/html": [
       "<div>\n",
       "<table border=\"1\" class=\"dataframe\">\n",
       "  <thead>\n",
       "    <tr style=\"text-align: right;\">\n",
       "      <th></th>\n",
       "      <th>Name</th>\n",
       "      <th>DefIndex</th>\n",
       "      <th>QualInt</th>\n",
       "      <th>Trade</th>\n",
       "      <th>Craft</th>\n",
       "      <th>PriceIndex</th>\n",
       "      <th>Currency</th>\n",
       "      <th>Value</th>\n",
       "      <th>Last_Update</th>\n",
       "      <th>Difference</th>\n",
       "    </tr>\n",
       "  </thead>\n",
       "  <tbody>\n",
       "    <tr>\n",
       "      <th>0</th>\n",
       "      <td>Dillinger's Duffel</td>\n",
       "      <td>781</td>\n",
       "      <td>6</td>\n",
       "      <td>Tradable</td>\n",
       "      <td>Non-Craftable</td>\n",
       "      <td>0</td>\n",
       "      <td>metal</td>\n",
       "      <td>2.00</td>\n",
       "      <td>1438113663</td>\n",
       "      <td>0.230</td>\n",
       "    </tr>\n",
       "    <tr>\n",
       "      <th>1</th>\n",
       "      <td>Dillinger's Duffel</td>\n",
       "      <td>781</td>\n",
       "      <td>6</td>\n",
       "      <td>Tradable</td>\n",
       "      <td>Craftable</td>\n",
       "      <td>0</td>\n",
       "      <td>metal</td>\n",
       "      <td>2.00</td>\n",
       "      <td>1379254675</td>\n",
       "      <td>0.170</td>\n",
       "    </tr>\n",
       "    <tr>\n",
       "      <th>2</th>\n",
       "      <td>Festive Shotgun</td>\n",
       "      <td>1141</td>\n",
       "      <td>11</td>\n",
       "      <td>Tradable</td>\n",
       "      <td>Craftable</td>\n",
       "      <td>0</td>\n",
       "      <td>keys</td>\n",
       "      <td>2.50</td>\n",
       "      <td>1449871311</td>\n",
       "      <td>-1.911</td>\n",
       "    </tr>\n",
       "    <tr>\n",
       "      <th>3</th>\n",
       "      <td>Festive Shotgun</td>\n",
       "      <td>1141</td>\n",
       "      <td>6</td>\n",
       "      <td>Tradable</td>\n",
       "      <td>Craftable</td>\n",
       "      <td>0</td>\n",
       "      <td>metal</td>\n",
       "      <td>2.00</td>\n",
       "      <td>1452798709</td>\n",
       "      <td>-0.500</td>\n",
       "    </tr>\n",
       "    <tr>\n",
       "      <th>4</th>\n",
       "      <td>Carbonado Botkiller Knife Mk.I</td>\n",
       "      <td>901</td>\n",
       "      <td>11</td>\n",
       "      <td>Tradable</td>\n",
       "      <td>Craftable</td>\n",
       "      <td>0</td>\n",
       "      <td>metal</td>\n",
       "      <td>3.66</td>\n",
       "      <td>1455594472</td>\n",
       "      <td>-0.340</td>\n",
       "    </tr>\n",
       "  </tbody>\n",
       "</table>\n",
       "</div>"
      ],
      "text/plain": [
       "                             Name  DefIndex QualInt     Trade          Craft  \\\n",
       "0              Dillinger's Duffel       781       6  Tradable  Non-Craftable   \n",
       "1              Dillinger's Duffel       781       6  Tradable      Craftable   \n",
       "2                 Festive Shotgun      1141      11  Tradable      Craftable   \n",
       "3                 Festive Shotgun      1141       6  Tradable      Craftable   \n",
       "4  Carbonado Botkiller Knife Mk.I       901      11  Tradable      Craftable   \n",
       "\n",
       "  PriceIndex Currency  Value  Last_Update  Difference  \n",
       "0          0    metal   2.00   1438113663       0.230  \n",
       "1          0    metal   2.00   1379254675       0.170  \n",
       "2          0     keys   2.50   1449871311      -1.911  \n",
       "3          0    metal   2.00   1452798709      -0.500  \n",
       "4          0    metal   3.66   1455594472      -0.340  "
      ]
     },
     "execution_count": 42,
     "metadata": {},
     "output_type": "execute_result"
    }
   ],
   "source": [
    "dfItemFinal.set_index(['Name', 'DefIndex', 'QualInt', 'Trade', 'Craft', 'PriceIndex'])\n",
    "#dfItemFinal = dfItemFinal.drop('Unnamed: 0', axis=1)\n",
    "dfItemFinal.sort_index(inplace = True)\n",
    "dfItemFinal.to_csv('itemOut.csv')"
   ]
  },
  {
   "cell_type": "code",
   "execution_count": 106,
   "metadata": {
    "collapsed": false
   },
   "outputs": [],
   "source": [
    "dfNew = pd.read_csv('itemOut.csv')\n",
    "#dfNew = dfNew.set_index(['Name', 'DefIndex', 'QualInt', 'Trade', 'Craft', 'PriceIndex'])\n",
    "dfNew = dfNew.drop('Unnamed: 0', axis=1)\n",
    "dfNew.sort_index(inplace = True)"
   ]
  },
  {
   "cell_type": "code",
   "execution_count": 107,
   "metadata": {
    "collapsed": false
   },
   "outputs": [],
   "source": [
    "#Could be useful if a json ends up with a lot of data in one column\n",
    "\n",
    "def flattenColumn(input, column):\n",
    "    column_flat = pd.DataFrame([[i, c_flattened] for i, y in input[column].apply(list).iteritems() for c_flattened in y], columns=['I', column])\n",
    "    column_flat = column_flat.set_index('I')\n",
    "    return input.drop(column, 1).merge(column_flat, left_index=True, right_index=True)"
   ]
  },
  {
   "cell_type": "code",
   "execution_count": 108,
   "metadata": {
    "collapsed": false
   },
   "outputs": [],
   "source": [
    "#df = json_normalize(data2['response'])\n",
    "#new_df = flattenColumn(df, 'items.A Brush with Death.defindex')"
   ]
  },
  {
   "cell_type": "code",
   "execution_count": 109,
   "metadata": {
    "collapsed": false
   },
   "outputs": [],
   "source": [
    "dfKeys = dfNew[dfNew['Currency'] == 'keys']\n",
    "dfKeys = dfKeys[dfKeys['QualInt'] == 5]\n",
    "\n",
    "#dfKeys = dfKeys.convert_objects(convert_numeric=True)\n",
    "dfKeys['QualInt'] = dfKeys['QualInt'].astype(int)"
   ]
  },
  {
   "cell_type": "code",
   "execution_count": 110,
   "metadata": {
    "collapsed": false
   },
   "outputs": [
    {
     "data": {
      "text/plain": [
       "<matplotlib.axes._subplots.AxesSubplot at 0x252f01d0>"
      ]
     },
     "execution_count": 110,
     "metadata": {},
     "output_type": "execute_result"
    },
    {
     "data": {
      "image/png": "[encoded data removed]",
      "text/plain": [
       "<matplotlib.figure.Figure at 0x25d06470>"
      ]
     },
     "metadata": {},
     "output_type": "display_data"
    }
   ],
   "source": [
    "dfKeys = dfKeys[dfKeys['Value'] < 400]\n",
    "dfKeys['Value'].hist(bins=12)"
   ]
  },
  {
   "cell_type": "code",
   "execution_count": null,
   "metadata": {
    "collapsed": true
   },
   "outputs": [],
   "source": []
  }
 ],
 "metadata": {
  "kernelspec": {
   "display_name": "Python 2",
   "language": "python",
   "name": "python2"
  },
  "language_info": {
   "codemirror_mode": {
    "name": "ipython",
    "version": 2
   },
   "file_extension": ".py",
   "mimetype": "text/x-python",
   "name": "python",
   "nbconvert_exporter": "python",
   "pygments_lexer": "ipython2",
   "version": "2.7.11"
  }
 },
 "nbformat": 4,
 "nbformat_minor": 0
}
