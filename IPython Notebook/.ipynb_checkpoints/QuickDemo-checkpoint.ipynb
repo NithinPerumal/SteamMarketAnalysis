{
 "cells": [
  {
   "cell_type": "markdown",
   "metadata": {},
   "source": [
    "# Streaming Data Template"
   ]
  },
  {
   "cell_type": "markdown",
   "metadata": {},
   "source": [
    "### -----\n"
   ]
  },
  {
   "cell_type": "code",
   "execution_count": 226,
   "metadata": {
    "collapsed": false
   },
   "outputs": [],
   "source": [
    "import requests;                                 # import package used to downlaod data from a web URL\n",
    "import json;\n",
    "import pandas as pd;\n",
    "import seaborn as sns;\n",
    "import matplotlib.pyplot as plt;\n",
    "import matplotlib;\n",
    "\n",
    "from pandas.io.json import json_normalize\n",
    "\n",
    "matplotlib.style.use('ggplot');\n",
    "%matplotlib inline"
   ]
  },
  {
   "cell_type": "code",
   "execution_count": 246,
   "metadata": {
    "collapsed": false
   },
   "outputs": [],
   "source": [
    "with open('API Keys.txt', 'r') as keyfile:\n",
    "    apiKeys=keyfile.read().split('\\n')\n",
    "   \n",
    "url = 'http://backpack.tf/api/IGetPrices/v4/?key=' + apiKeys[0];        # web address of data stream\n",
    "\n",
    "data_stream = requests.get(url,stream=True);                                    # create an iterable data stream object"
   ]
  },
  {
   "cell_type": "code",
   "execution_count": 247,
   "metadata": {
    "collapsed": false
   },
   "outputs": [
    {
     "data": {
      "text/plain": [
       "11"
      ]
     },
     "execution_count": 247,
     "metadata": {},
     "output_type": "execute_result"
    }
   ],
   "source": [
    "rec = data_stream.iter_lines().next().strip() # Necessary before reading data\n",
    "data = json.loads(rec)            # convert the json record to a python dictionary\n",
    "\n",
    "items = []\n",
    "i = 0\n",
    "for result in data['response']['items']:\n",
    "    prices = [];\n",
    "    row = json_normalize(data['response']['items'][result])\n",
    "    \n",
    "    # prices.X.Tradable.Craftable.Y.currency\n",
    "    # X = 0: Normal\n",
    "    #     1: Unique\n",
    "    #     2: Vintage\n",
    "    # Y = priceIndex\n",
    "    if('prices.0.Tradable.Craftable.0.currency' in row):\n",
    "        items.append(row)\n",
    "        items[i]['Name'] = result\n",
    "        items[i].set_index('defindex')\n",
    "        i += 1\n",
    "        \n",
    "len(items)"
   ]
  },
  {
   "cell_type": "code",
   "execution_count": 248,
   "metadata": {
    "collapsed": false
   },
   "outputs": [
    {
     "data": {
      "text/html": [
       "<div>\n",
       "<table border=\"1\" class=\"dataframe\">\n",
       "  <thead>\n",
       "    <tr style=\"text-align: right;\">\n",
       "      <th></th>\n",
       "      <th>Name</th>\n",
       "      <th>Currency</th>\n",
       "      <th>Difference</th>\n",
       "      <th>Last Update</th>\n",
       "      <th>Value</th>\n",
       "      <th>Value High</th>\n",
       "    </tr>\n",
       "  </thead>\n",
       "  <tbody>\n",
       "    <tr>\n",
       "      <th>0</th>\n",
       "      <td>Minigun</td>\n",
       "      <td>keys</td>\n",
       "      <td>-279.900</td>\n",
       "      <td>1448725402</td>\n",
       "      <td>55</td>\n",
       "      <td>NaN</td>\n",
       "    </tr>\n",
       "    <tr>\n",
       "      <th>0</th>\n",
       "      <td>Stickybomb Launcher</td>\n",
       "      <td>keys</td>\n",
       "      <td>273.870</td>\n",
       "      <td>1446871318</td>\n",
       "      <td>17</td>\n",
       "      <td>NaN</td>\n",
       "    </tr>\n",
       "    <tr>\n",
       "      <th>0</th>\n",
       "      <td>Black Rose</td>\n",
       "      <td>keys</td>\n",
       "      <td>15949.035</td>\n",
       "      <td>1435861499</td>\n",
       "      <td>756</td>\n",
       "      <td>918</td>\n",
       "    </tr>\n",
       "    <tr>\n",
       "      <th>0</th>\n",
       "      <td>Ellis' Cap</td>\n",
       "      <td>keys</td>\n",
       "      <td>4220.250</td>\n",
       "      <td>1402021641</td>\n",
       "      <td>510</td>\n",
       "      <td>NaN</td>\n",
       "    </tr>\n",
       "    <tr>\n",
       "      <th>0</th>\n",
       "      <td>Sniper Rifle</td>\n",
       "      <td>keys</td>\n",
       "      <td>883.025</td>\n",
       "      <td>1442941356</td>\n",
       "      <td>50</td>\n",
       "      <td>60</td>\n",
       "    </tr>\n",
       "    <tr>\n",
       "      <th>0</th>\n",
       "      <td>Grenade Launcher</td>\n",
       "      <td>keys</td>\n",
       "      <td>272.000</td>\n",
       "      <td>1442346896</td>\n",
       "      <td>17</td>\n",
       "      <td>NaN</td>\n",
       "    </tr>\n",
       "    <tr>\n",
       "      <th>0</th>\n",
       "      <td>Batsaber</td>\n",
       "      <td>keys</td>\n",
       "      <td>1128.195</td>\n",
       "      <td>1454039210</td>\n",
       "      <td>60</td>\n",
       "      <td>62</td>\n",
       "    </tr>\n",
       "    <tr>\n",
       "      <th>0</th>\n",
       "      <td>Bat</td>\n",
       "      <td>keys</td>\n",
       "      <td>3040.000</td>\n",
       "      <td>1427669079</td>\n",
       "      <td>192</td>\n",
       "      <td>NaN</td>\n",
       "    </tr>\n",
       "    <tr>\n",
       "      <th>0</th>\n",
       "      <td>Scattergun</td>\n",
       "      <td>keys</td>\n",
       "      <td>496.000</td>\n",
       "      <td>1441403096</td>\n",
       "      <td>30</td>\n",
       "      <td>32</td>\n",
       "    </tr>\n",
       "    <tr>\n",
       "      <th>0</th>\n",
       "      <td>Purity Fist</td>\n",
       "      <td>keys</td>\n",
       "      <td>0.000</td>\n",
       "      <td>1377063243</td>\n",
       "      <td>239</td>\n",
       "      <td>240</td>\n",
       "    </tr>\n",
       "    <tr>\n",
       "      <th>0</th>\n",
       "      <td>Australium Grenade Launcher</td>\n",
       "      <td>keys</td>\n",
       "      <td>-3866.400</td>\n",
       "      <td>1446354403</td>\n",
       "      <td>200</td>\n",
       "      <td>NaN</td>\n",
       "    </tr>\n",
       "  </tbody>\n",
       "</table>\n",
       "</div>"
      ],
      "text/plain": [
       "                          Name Currency  Difference  Last Update  Value  \\\n",
       "0                      Minigun     keys    -279.900   1448725402     55   \n",
       "0          Stickybomb Launcher     keys     273.870   1446871318     17   \n",
       "0                   Black Rose     keys   15949.035   1435861499    756   \n",
       "0                   Ellis' Cap     keys    4220.250   1402021641    510   \n",
       "0                 Sniper Rifle     keys     883.025   1442941356     50   \n",
       "0             Grenade Launcher     keys     272.000   1442346896     17   \n",
       "0                     Batsaber     keys    1128.195   1454039210     60   \n",
       "0                          Bat     keys    3040.000   1427669079    192   \n",
       "0                   Scattergun     keys     496.000   1441403096     30   \n",
       "0                  Purity Fist     keys       0.000   1377063243    239   \n",
       "0  Australium Grenade Launcher     keys   -3866.400   1446354403    200   \n",
       "\n",
       "   Value High  \n",
       "0         NaN  \n",
       "0         NaN  \n",
       "0         918  \n",
       "0         NaN  \n",
       "0          60  \n",
       "0         NaN  \n",
       "0          62  \n",
       "0         NaN  \n",
       "0          32  \n",
       "0         240  \n",
       "0         NaN  "
      ]
     },
     "execution_count": 248,
     "metadata": {},
     "output_type": "execute_result"
    }
   ],
   "source": [
    "df = pd.concat(items)\n",
    "\n",
    "for column in df.columns:\n",
    "    if(column.startswith('Name')):\n",
    "        continue\n",
    "    if(not column.startswith('prices.0.Tradable.Craftable')):\n",
    "        df = df.drop(column, 1)\n",
    "\n",
    "df.columns = ['Name', 'Currency', 'Difference', 'Last Update', 'Value', 'Value High']\n",
    "df.set_index('Name')\n",
    "\n",
    "df"
   ]
  },
  {
   "cell_type": "code",
   "execution_count": 239,
   "metadata": {
    "collapsed": false
   },
   "outputs": [],
   "source": [
    "df.to_csv('itemOut.csv', sep='\\t', encoding='utf-8') # This is not working!"
   ]
  },
  {
   "cell_type": "code",
   "execution_count": 240,
   "metadata": {
    "collapsed": false
   },
   "outputs": [
    {
     "data": {
      "text/html": [
       "<div>\n",
       "<table border=\"1\" class=\"dataframe\">\n",
       "  <thead>\n",
       "    <tr style=\"text-align: right;\">\n",
       "      <th></th>\n",
       "      <th>Unnamed: 0</th>\n",
       "      <th>Name\tCurrency\tDifference\tLast Update\tValue\tValue High</th>\n",
       "    </tr>\n",
       "  </thead>\n",
       "  <tbody>\n",
       "    <tr>\n",
       "      <th>0</th>\n",
       "      <td>0</td>\n",
       "      <td>0\\tMinigun\\tkeys\\t-279.9\\t1448725402\\t55\\t</td>\n",
       "    </tr>\n",
       "    <tr>\n",
       "      <th>1</th>\n",
       "      <td>1</td>\n",
       "      <td>0\\tStickybomb Launcher\\tkeys\\t273.87\\t14468713...</td>\n",
       "    </tr>\n",
       "    <tr>\n",
       "      <th>2</th>\n",
       "      <td>2</td>\n",
       "      <td>0\\tBlack Rose\\tkeys\\t15949.035\\t1435861499\\t75...</td>\n",
       "    </tr>\n",
       "    <tr>\n",
       "      <th>3</th>\n",
       "      <td>3</td>\n",
       "      <td>0\\tEllis' Cap\\tkeys\\t4220.25\\t1402021641\\t510\\t</td>\n",
       "    </tr>\n",
       "    <tr>\n",
       "      <th>4</th>\n",
       "      <td>4</td>\n",
       "      <td>0\\tSniper Rifle\\tkeys\\t883.025\\t1442941356\\t50...</td>\n",
       "    </tr>\n",
       "  </tbody>\n",
       "</table>\n",
       "</div>"
      ],
      "text/plain": [
       "   Unnamed: 0 \\tName\\tCurrency\\tDifference\\tLast Update\\tValue\\tValue High\n",
       "0           0         0\\tMinigun\\tkeys\\t-279.9\\t1448725402\\t55\\t          \n",
       "1           1  0\\tStickybomb Launcher\\tkeys\\t273.87\\t14468713...          \n",
       "2           2  0\\tBlack Rose\\tkeys\\t15949.035\\t1435861499\\t75...          \n",
       "3           3    0\\tEllis' Cap\\tkeys\\t4220.25\\t1402021641\\t510\\t          \n",
       "4           4  0\\tSniper Rifle\\tkeys\\t883.025\\t1442941356\\t50...          "
      ]
     },
     "execution_count": 240,
     "metadata": {},
     "output_type": "execute_result"
    }
   ],
   "source": [
    "fileName = './itemOut.csv'\n",
    "df = pd.read_csv(fileName)\n",
    "df.head()"
   ]
  },
  {
   "cell_type": "code",
   "execution_count": null,
   "metadata": {
    "collapsed": true
   },
   "outputs": [],
   "source": []
  }
 ],
 "metadata": {
  "kernelspec": {
   "display_name": "Python 2",
   "language": "python",
   "name": "python2"
  },
  "language_info": {
   "codemirror_mode": {
    "name": "ipython",
    "version": 2
   },
   "file_extension": ".py",
   "mimetype": "text/x-python",
   "name": "python",
   "nbconvert_exporter": "python",
   "pygments_lexer": "ipython2",
   "version": "2.7.11"
  }
 },
 "nbformat": 4,
 "nbformat_minor": 0
}
