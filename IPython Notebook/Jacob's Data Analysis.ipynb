{
 "cells": [
  {
   "cell_type": "markdown",
   "metadata": {},
   "source": [
    "# Streaming Data Template"
   ]
  },
  {
   "cell_type": "markdown",
   "metadata": {},
   "source": [
    "### -----\n"
   ]
  },
  {
   "cell_type": "code",
   "execution_count": 1,
   "metadata": {
    "collapsed": false
   },
   "outputs": [
    {
     "name": "stderr",
     "output_type": "stream",
     "text": [
      "C:\\Users\\knispeja\\Anaconda2\\lib\\site-packages\\matplotlib\\__init__.py:872: UserWarning: axes.color_cycle is deprecated and replaced with axes.prop_cycle; please use the latter.\n",
      "  warnings.warn(self.msg_depr % (key, alt_key))\n"
     ]
    }
   ],
   "source": [
    "import requests;                                 # import package used to downlaod data from a web URL\n",
    "import json;\n",
    "import pandas as pd;\n",
    "import seaborn as sns;\n",
    "import matplotlib.pyplot as plt;\n",
    "import matplotlib;\n",
    "\n",
    "from pandas.io.json import json_normalize\n",
    "\n",
    "matplotlib.style.use('ggplot');\n",
    "%matplotlib inline"
   ]
  },
  {
   "cell_type": "code",
   "execution_count": 2,
   "metadata": {
    "collapsed": false
   },
   "outputs": [],
   "source": [
    "with open('API Keys.txt', 'r') as keyfile:\n",
    "    apiKeys=keyfile.read().split('\\n')\n",
    "   \n",
    "url = 'http://backpack.tf/api/IGetPrices/v4/?key=' + apiKeys[0];        # web address of data stream\n",
    "\n",
    "data_stream = requests.get(url,stream=True);                                    # create an iterable data stream object\n",
    "\n",
    "rec = data_stream.iter_lines().next().strip() # Necessary before reading data\n",
    "data = json.loads(rec)            # convert the json record to a python dictionary"
   ]
  },
  {
   "cell_type": "code",
   "execution_count": 3,
   "metadata": {
    "collapsed": false
   },
   "outputs": [],
   "source": [
    "def byteify(input):\n",
    "    if isinstance(input, dict):\n",
    "        return {byteify(key): byteify(value)\n",
    "                for key, value in input.iteritems()}\n",
    "    elif isinstance(input, list):\n",
    "        return [byteify(element) for element in input]\n",
    "    elif isinstance(input, unicode):\n",
    "        return input.encode('utf-8')\n",
    "    else:\n",
    "        return input\n",
    "\n",
    "data2 = byteify(data)"
   ]
  },
  {
   "cell_type": "code",
   "execution_count": 4,
   "metadata": {
    "collapsed": false
   },
   "outputs": [],
   "source": [
    "#Testing box. Useful/helps me remember. Do not remove.\n",
    "\n",
    "#dfName = json_normalize(data2['response']['items'][\"Dillinger's Duffel\"]['prices']['6']['Tradable']['Craftable']['0'])#['currency', 'difference', 'value', 'last_update'])\n",
    "# if(dfName[0][0] == 'prices'):\n",
    "#     print('Hello')\n",
    "# dfName = json_normalize(data2['response']['items'][\"Dillinger's Duffel\"], 'prices')\n",
    "# for qualInt in dfName[0]:\n",
    "#     dfTrade = json_normalize(data2['response']['items'][itemName]['prices'], qualInt)\n",
    "#dfName"
   ]
  },
  {
   "cell_type": "code",
   "execution_count": 5,
   "metadata": {
    "collapsed": false
   },
   "outputs": [],
   "source": [
    "df = json_normalize(data2['response'])"
   ]
  },
  {
   "cell_type": "code",
   "execution_count": 6,
   "metadata": {
    "collapsed": false
   },
   "outputs": [],
   "source": [
    "#Just info that the website gives us.\n",
    "\n",
    "raw_usd_value = df['raw_usd_value']\n",
    "current_time = df['current_time']\n",
    "success = df['success']\n",
    "usd_currency_index = df['usd_currency_index']\n",
    "usd_currency = df['usd_currency']"
   ]
  },
  {
   "cell_type": "code",
   "execution_count": 7,
   "metadata": {
    "collapsed": false
   },
   "outputs": [],
   "source": [
    "#Note: This is only the item data.\n",
    "#Does not get raw item data (can easily be added if we want)\n",
    "#Does not get value_high\n",
    "\n",
    "#THIS WILL TAKE >2 MINUTES TO RUN\n",
    "\n",
    "#Might be better to start with some array or something with an initial size (16K ish?)\n",
    "#then convert when it is done\n",
    "\n",
    "dfItemFinal = pd.DataFrame(columns = ['Name', 'DefIndex', 'QualInt', 'Trade', 'Craft', 'PriceIndex', 'Currency', 'Value', 'Last_Update', 'Difference'])\n",
    "df = json_normalize(data2['response'], 'items')\n",
    "for itemName in df[0]:\n",
    "    dfName = json_normalize(data2['response']['items'], [itemName])\n",
    "    if(dfName.size != 2):\n",
    "        raise Exception('More than 2 items for item' + itemName)\n",
    "    if(dfName[0][0] != 'prices'):\n",
    "        raise Exception('First row in %s is not prices' % (itemName))\n",
    "    if(dfName[0][0] != 'prices'):\n",
    "        raise Exception('Second row in %s is not defindex' % (itemName))\n",
    "    defIndex = json_normalize(data2['response']['items'][itemName], ['defindex'])[0][0]\n",
    "    dfPrices = json_normalize(data2['response']['items'][itemName], 'prices')\n",
    "    for qualInt in dfPrices[0]:\n",
    "        dfTrade = json_normalize(data2['response']['items'][itemName]['prices'], qualInt)\n",
    "        \n",
    "        for tradeable in dfTrade[0]:\n",
    "            dfCraft = json_normalize(data2['response']['items'][itemName]['prices'][qualInt], tradeable)\n",
    "        \n",
    "            for craftable in dfCraft[0]:\n",
    "                dfPriceIndex = json_normalize(data2['response']['items'][itemName]['prices'][qualInt][tradeable], craftable)\n",
    "                \n",
    "                for priceIndex in dfPriceIndex[0]:\n",
    "                    dfFinalValues = json_normalize(data2['response']['items'][itemName]['prices'][qualInt][tradeable][craftable][priceIndex])\n",
    "                    \n",
    "                    currency = dfFinalValues['currency'][0]\n",
    "                    difference = dfFinalValues['difference'][0]\n",
    "                    last_update = dfFinalValues['last_update'][0]\n",
    "                    value = dfFinalValues['value'][0]\n",
    "                    dfItemFinal.loc[len(dfItemFinal)]=[itemName, defIndex, qualInt, tradeable, craftable, priceIndex, currency, value, last_update, difference]"
   ]
  },
  {
   "cell_type": "code",
   "execution_count": 113,
   "metadata": {
    "collapsed": false
   },
   "outputs": [],
   "source": [
    "dfItemFinal.set_index(['Name', 'DefIndex', 'QualInt', 'Trade', 'Craft', 'PriceIndex'])\n",
    "#dfItemFinal = dfItemFinal.drop('Unnamed: 0', axis=1)\n",
    "dfItemFinal.sort_index(inplace = True)\n",
    "dfItemFinal.to_csv('itemOut.csv')"
   ]
  },
  {
   "cell_type": "code",
   "execution_count": 114,
   "metadata": {
    "collapsed": false
   },
   "outputs": [],
   "source": [
    "dfNew = pd.read_csv('itemOut.csv')\n",
    "#dfNew = dfNew.set_index(['Name', 'DefIndex', 'QualInt', 'Trade', 'Craft', 'PriceIndex'])\n",
    "dfNew = dfNew.drop('Unnamed: 0', axis=1)\n",
    "dfNew.sort_index(inplace = True)"
   ]
  },
  {
   "cell_type": "code",
   "execution_count": 115,
   "metadata": {
    "collapsed": false
   },
   "outputs": [],
   "source": [
    "#Could be useful if a json ends up with a lot of data in one column\n",
    "\n",
    "def flattenColumn(input, column):\n",
    "    column_flat = pd.DataFrame([[i, c_flattened] for i, y in input[column].apply(list).iteritems() for c_flattened in y], columns=['I', column])\n",
    "    column_flat = column_flat.set_index('I')\n",
    "    return input.drop(column, 1).merge(column_flat, left_index=True, right_index=True)"
   ]
  },
  {
   "cell_type": "code",
   "execution_count": 116,
   "metadata": {
    "collapsed": false
   },
   "outputs": [],
   "source": [
    "#df = json_normalize(data2['response'])\n",
    "#new_df = flattenColumn(df, 'items.A Brush with Death.defindex')"
   ]
  },
  {
   "cell_type": "code",
   "execution_count": 215,
   "metadata": {
    "collapsed": false
   },
   "outputs": [],
   "source": [
    "dfKeys = dfNew[dfNew['Currency'] == 'keys']"
   ]
  },
  {
   "cell_type": "code",
   "execution_count": 216,
   "metadata": {
    "collapsed": false
   },
   "outputs": [
    {
     "data": {
      "text/plain": [
       "<matplotlib.text.Text at 0x34711470>"
      ]
     },
     "execution_count": 216,
     "metadata": {},
     "output_type": "execute_result"
    },
    {
     "data": {
      "image/png": "[encoded data removed]",
      "text/plain": [
       "<matplotlib.figure.Figure at 0x2ff96048>"
      ]
     },
     "metadata": {},
     "output_type": "display_data"
    }
   ],
   "source": [
    "dfAllUnusuals = dfKeys[dfKeys['QualInt'] == 5]\n",
    "dfUnusuals = dfAllUnusuals[dfAllUnusuals['Value'] < 200] # Remove obvious outliers\n",
    "ax = dfUnusuals['Value'].plot(kind='hist', title='Distribution of Unusual Item Prices', bins=100)\n",
    "ax.set_xlabel(\"Price in Keys\")\n",
    "ax.set_ylabel(\"Number of Items\")"
   ]
  },
  {
   "cell_type": "markdown",
   "metadata": {},
   "source": [
    "### It's obvious from this graph that unusual items rarely sell for less than 5 or 6 keys, but most of them are sold for around 10 keys. This phenomenon can be explained very simply -- in order to get an unusual, a player must actually *use a key* to open something called a crate. They have a 1.00% chance to get an unusual item in return.\n",
    "\n",
    "### For this reason, it wouldn't make sense for unusual items to sell for anywhere close to 1 key, because all unusuals, no matter how little people like them, are rarer than keys, which can be bought from the store via microtransactions (for \\$2.50)"
   ]
  },
  {
   "cell_type": "code",
   "execution_count": 217,
   "metadata": {
    "collapsed": false
   },
   "outputs": [
    {
     "data": {
      "text/plain": [
       "<matplotlib.text.Text at 0x34b08860>"
      ]
     },
     "execution_count": 217,
     "metadata": {},
     "output_type": "execute_result"
    },
    {
     "data": {
      "image/png": "[encoded data removed]",
      "text/plain": [
       "<matplotlib.figure.Figure at 0x34cad748>"
      ]
     },
     "metadata": {},
     "output_type": "display_data"
    }
   ],
   "source": [
    "dfUnusuals = dfUnusuals[dfUnusuals['Value'] < 100] # Zoom\n",
    "dfUnusuals = dfUnusuals[dfUnusuals['Value'] > 50] # Zooom!\n",
    "ax = dfUnusuals['Value'].plot(kind='hist', title='Distribution of Unusual Item Prices (Zoomed!)', bins=30)\n",
    "ax.set_xlabel(\"Price in Keys\")\n",
    "ax.set_ylabel(\"Number of Items\")"
   ]
  },
  {
   "cell_type": "markdown",
   "metadata": {},
   "source": [
    "### It's interesting to note that, because the prices are defined freely by humans (by however much people decide to sell their items for), there is a great tendency for prices to fall on or near values that are multiples of 5. For example, looking at the range 70-80 keys, there are spikes at 70 keys, 75 keys, and 80 keys.\n",
    "---\n",
    "### Even the smaller spikes in-between the multiples of 5 can be explained -- these are at 73.33 and 76.66 from our range defined before. \n",
    "\n",
    "### Why? Items on the TF2 market are often priced at values like '2.33 keys' or '1.66 refined metal' because these are more convenient to split that the obscure fractions the 'true price' usually lands on."
   ]
  },
  {
   "cell_type": "code",
   "execution_count": 218,
   "metadata": {
    "collapsed": false
   },
   "outputs": [],
   "source": [
    "dfMetal = dfNew[dfNew['Currency'] == 'metal']"
   ]
  },
  {
   "cell_type": "code",
   "execution_count": 219,
   "metadata": {
    "collapsed": false
   },
   "outputs": [
    {
     "data": {
      "text/plain": [
       "<matplotlib.text.Text at 0x34f905c0>"
      ]
     },
     "execution_count": 219,
     "metadata": {},
     "output_type": "execute_result"
    },
    {
     "data": {
      "image/png": "[encoded data removed]",
      "text/plain": [
       "<matplotlib.figure.Figure at 0x3461add8>"
      ]
     },
     "metadata": {},
     "output_type": "display_data"
    }
   ],
   "source": [
    "dfAllUniques = dfMetal[dfMetal['QualInt'] == 6]\n",
    "dfUniques = dfAllUniques[dfAllUniques['Value'] < 15] # Remove obvious outliers\n",
    "ax = dfUniques['Value'].plot(kind='hist', title='Distribution of Unique Item Prices', bins=30)\n",
    "ax.set_xlabel(\"Price in Refined Metal\")\n",
    "ax.set_ylabel(\"Number of Items\")"
   ]
  },
  {
   "cell_type": "markdown",
   "metadata": {},
   "source": [
    "### Similar to the previous graph, we can clearly see that unique items tend to sell for easily-divisible values. However, refined metal can actually be split in-game, always into 3 parts. Therefore, prices are almost always multiples of three -- the most common price for a unique item is 0.33 refined metal, which is equivalent to a single piece of a split refined metal.\n",
    "---\n",
    "### It's also interesting to note here how much cheaper unique items tend to be compared to unusuals. A unique item costs, on average, 2.60 refined metal. In comparison, the average unusual item costs a whopping 1392.24 refined metal!"
   ]
  },
  {
   "cell_type": "code",
   "execution_count": 230,
   "metadata": {
    "collapsed": false
   },
   "outputs": [
    {
     "name": "stdout",
     "output_type": "stream",
     "text": [
      "Average unique item metal cost: 2.60\n"
     ]
    }
   ],
   "source": [
    "print('Average unique item metal cost: %0.2f' % (dfAllUniques['Value'].mean()))"
   ]
  },
  {
   "cell_type": "code",
   "execution_count": 229,
   "metadata": {
    "collapsed": false
   },
   "outputs": [
    {
     "name": "stdout",
     "output_type": "stream",
     "text": [
      "Average unusual metal cost: 1392.24\n"
     ]
    }
   ],
   "source": [
    "refinedMetalPerKey = dfAllUniques[dfAllUniques['Name'] == 'Mann Co. Supply Crate Key']['Value']\n",
    "print('Average unusual item metal cost: %0.2f' % (dfAllUnusuals['Value'].mean() * refinedMetalPerKey))"
   ]
  },
  {
   "cell_type": "code",
   "execution_count": 227,
   "metadata": {
    "collapsed": false
   },
   "outputs": [
    {
     "data": {
      "text/plain": [
       "72.0249003828424"
      ]
     },
     "execution_count": 227,
     "metadata": {},
     "output_type": "execute_result"
    }
   ],
   "source": [
    "dfAllUnusuals['Value'].mean()"
   ]
  },
  {
   "cell_type": "code",
   "execution_count": null,
   "metadata": {
    "collapsed": true
   },
   "outputs": [],
   "source": []
  }
 ],
 "metadata": {
  "kernelspec": {
   "display_name": "Python 2",
   "language": "python",
   "name": "python2"
  },
  "language_info": {
   "codemirror_mode": {
    "name": "ipython",
    "version": 2
   },
   "file_extension": ".py",
   "mimetype": "text/x-python",
   "name": "python",
   "nbconvert_exporter": "python",
   "pygments_lexer": "ipython2",
   "version": "2.7.11"
  }
 },
 "nbformat": 4,
 "nbformat_minor": 0
}
