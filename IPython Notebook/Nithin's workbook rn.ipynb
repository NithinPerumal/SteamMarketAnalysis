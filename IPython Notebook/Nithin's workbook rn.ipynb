{
 "cells": [
  {
   "cell_type": "code",
   "execution_count": 2,
   "metadata": {
    "collapsed": true
   },
   "outputs": [],
   "source": [
    "import requests;                                 # import package used to downlaod data from a web URL\n",
    "import json;\n",
    "import pandas as pd;\n",
    "import matplotlib.pyplot as plt;\n",
    "import matplotlib;\n",
    "import datetime as dt\n",
    "import time\n",
    "import numpy as np\n",
    "\n",
    "from pandas.io.json import json_normalize\n",
    "\n",
    "matplotlib.style.use('ggplot');\n",
    "%matplotlib inline"
   ]
  },
  {
   "cell_type": "code",
   "execution_count": 3,
   "metadata": {
    "collapsed": false
   },
   "outputs": [],
   "source": [
    "dfIn = pd.read_csv('itemhistory.csv', dtype={'Craft':str, 'DateTime':dt.datetime, 'DefIndex':np.float64, 'Name':str,\n",
    "                                            'PriceIndex':str, 'QualInt':np.int64, 'Trade':str, 'currency':str,\n",
    "                                            'timestamp':np.float64, 'value':np.float64, 'value_high':np.float64})\n",
    "dfIn['DateTime'] = pd.to_datetime(dfIn['DateTime'])\n",
    "dfIn = dfIn.set_index(['Name', 'DefIndex', 'QualInt', 'Trade', 'Craft', 'PriceIndex'])\n",
    "dfIn.sort_index(inplace = True)\n",
    "df2 = dfIn.reset_index()"
   ]
  },
  {
   "cell_type": "code",
   "execution_count": 4,
   "metadata": {
    "collapsed": false
   },
   "outputs": [
    {
     "data": {
      "text/html": [
       "<div>\n",
       "<table border=\"1\" class=\"dataframe\">\n",
       "  <thead>\n",
       "    <tr style=\"text-align: right;\">\n",
       "      <th></th>\n",
       "      <th>Name</th>\n",
       "      <th>DefIndex</th>\n",
       "      <th>QualInt</th>\n",
       "      <th>Trade</th>\n",
       "      <th>Craft</th>\n",
       "      <th>PriceIndex</th>\n",
       "      <th>DateTime</th>\n",
       "      <th>currency</th>\n",
       "      <th>timestamp</th>\n",
       "      <th>value</th>\n",
       "      <th>value_high</th>\n",
       "    </tr>\n",
       "  </thead>\n",
       "  <tbody>\n",
       "    <tr>\n",
       "      <th>0</th>\n",
       "      <td>A Brush with Death</td>\n",
       "      <td>30186</td>\n",
       "      <td>6</td>\n",
       "      <td>Tradable</td>\n",
       "      <td>Craftable</td>\n",
       "      <td>0</td>\n",
       "      <td>2013-10-13 15:09:05</td>\n",
       "      <td>keys</td>\n",
       "      <td>1381676945</td>\n",
       "      <td>1.00</td>\n",
       "      <td>1.00</td>\n",
       "    </tr>\n",
       "    <tr>\n",
       "      <th>1</th>\n",
       "      <td>A Brush with Death</td>\n",
       "      <td>30186</td>\n",
       "      <td>6</td>\n",
       "      <td>Tradable</td>\n",
       "      <td>Craftable</td>\n",
       "      <td>0</td>\n",
       "      <td>2013-11-02 14:16:46</td>\n",
       "      <td>metal</td>\n",
       "      <td>1383401806</td>\n",
       "      <td>5.66</td>\n",
       "      <td>6.00</td>\n",
       "    </tr>\n",
       "    <tr>\n",
       "      <th>2</th>\n",
       "      <td>A Brush with Death</td>\n",
       "      <td>30186</td>\n",
       "      <td>6</td>\n",
       "      <td>Tradable</td>\n",
       "      <td>Craftable</td>\n",
       "      <td>0</td>\n",
       "      <td>2013-11-05 15:31:46</td>\n",
       "      <td>metal</td>\n",
       "      <td>1383665506</td>\n",
       "      <td>5.33</td>\n",
       "      <td>6.00</td>\n",
       "    </tr>\n",
       "    <tr>\n",
       "      <th>3</th>\n",
       "      <td>A Brush with Death</td>\n",
       "      <td>30186</td>\n",
       "      <td>6</td>\n",
       "      <td>Tradable</td>\n",
       "      <td>Craftable</td>\n",
       "      <td>0</td>\n",
       "      <td>2013-11-07 04:27:17</td>\n",
       "      <td>metal</td>\n",
       "      <td>1383798437</td>\n",
       "      <td>5.00</td>\n",
       "      <td>5.33</td>\n",
       "    </tr>\n",
       "    <tr>\n",
       "      <th>4</th>\n",
       "      <td>A Brush with Death</td>\n",
       "      <td>30186</td>\n",
       "      <td>6</td>\n",
       "      <td>Tradable</td>\n",
       "      <td>Craftable</td>\n",
       "      <td>0</td>\n",
       "      <td>2013-11-07 21:22:53</td>\n",
       "      <td>metal</td>\n",
       "      <td>1383859373</td>\n",
       "      <td>4.66</td>\n",
       "      <td>5.00</td>\n",
       "    </tr>\n",
       "    <tr>\n",
       "      <th>5</th>\n",
       "      <td>A Brush with Death</td>\n",
       "      <td>30186</td>\n",
       "      <td>6</td>\n",
       "      <td>Tradable</td>\n",
       "      <td>Craftable</td>\n",
       "      <td>0</td>\n",
       "      <td>2013-11-09 16:48:37</td>\n",
       "      <td>metal</td>\n",
       "      <td>1384015717</td>\n",
       "      <td>4.66</td>\n",
       "      <td>4.66</td>\n",
       "    </tr>\n",
       "    <tr>\n",
       "      <th>6</th>\n",
       "      <td>A Brush with Death</td>\n",
       "      <td>30186</td>\n",
       "      <td>6</td>\n",
       "      <td>Tradable</td>\n",
       "      <td>Craftable</td>\n",
       "      <td>0</td>\n",
       "      <td>2013-11-11 09:25:54</td>\n",
       "      <td>metal</td>\n",
       "      <td>1384161954</td>\n",
       "      <td>4.33</td>\n",
       "      <td>4.66</td>\n",
       "    </tr>\n",
       "    <tr>\n",
       "      <th>7</th>\n",
       "      <td>A Brush with Death</td>\n",
       "      <td>30186</td>\n",
       "      <td>6</td>\n",
       "      <td>Tradable</td>\n",
       "      <td>Craftable</td>\n",
       "      <td>0</td>\n",
       "      <td>2013-11-13 22:56:24</td>\n",
       "      <td>metal</td>\n",
       "      <td>1384383384</td>\n",
       "      <td>4.00</td>\n",
       "      <td>4.33</td>\n",
       "    </tr>\n",
       "    <tr>\n",
       "      <th>8</th>\n",
       "      <td>A Brush with Death</td>\n",
       "      <td>30186</td>\n",
       "      <td>6</td>\n",
       "      <td>Tradable</td>\n",
       "      <td>Craftable</td>\n",
       "      <td>0</td>\n",
       "      <td>2013-11-17 02:51:05</td>\n",
       "      <td>metal</td>\n",
       "      <td>1384656665</td>\n",
       "      <td>4.00</td>\n",
       "      <td>4.00</td>\n",
       "    </tr>\n",
       "    <tr>\n",
       "      <th>9</th>\n",
       "      <td>A Brush with Death</td>\n",
       "      <td>30186</td>\n",
       "      <td>6</td>\n",
       "      <td>Tradable</td>\n",
       "      <td>Craftable</td>\n",
       "      <td>0</td>\n",
       "      <td>2014-04-29 01:07:20</td>\n",
       "      <td>metal</td>\n",
       "      <td>1398733640</td>\n",
       "      <td>3.66</td>\n",
       "      <td>4.00</td>\n",
       "    </tr>\n",
       "  </tbody>\n",
       "</table>\n",
       "</div>"
      ],
      "text/plain": [
       "                 Name  DefIndex  QualInt     Trade      Craft PriceIndex  \\\n",
       "0  A Brush with Death     30186        6  Tradable  Craftable          0   \n",
       "1  A Brush with Death     30186        6  Tradable  Craftable          0   \n",
       "2  A Brush with Death     30186        6  Tradable  Craftable          0   \n",
       "3  A Brush with Death     30186        6  Tradable  Craftable          0   \n",
       "4  A Brush with Death     30186        6  Tradable  Craftable          0   \n",
       "5  A Brush with Death     30186        6  Tradable  Craftable          0   \n",
       "6  A Brush with Death     30186        6  Tradable  Craftable          0   \n",
       "7  A Brush with Death     30186        6  Tradable  Craftable          0   \n",
       "8  A Brush with Death     30186        6  Tradable  Craftable          0   \n",
       "9  A Brush with Death     30186        6  Tradable  Craftable          0   \n",
       "\n",
       "             DateTime currency   timestamp  value  value_high  \n",
       "0 2013-10-13 15:09:05     keys  1381676945   1.00        1.00  \n",
       "1 2013-11-02 14:16:46    metal  1383401806   5.66        6.00  \n",
       "2 2013-11-05 15:31:46    metal  1383665506   5.33        6.00  \n",
       "3 2013-11-07 04:27:17    metal  1383798437   5.00        5.33  \n",
       "4 2013-11-07 21:22:53    metal  1383859373   4.66        5.00  \n",
       "5 2013-11-09 16:48:37    metal  1384015717   4.66        4.66  \n",
       "6 2013-11-11 09:25:54    metal  1384161954   4.33        4.66  \n",
       "7 2013-11-13 22:56:24    metal  1384383384   4.00        4.33  \n",
       "8 2013-11-17 02:51:05    metal  1384656665   4.00        4.00  \n",
       "9 2014-04-29 01:07:20    metal  1398733640   3.66        4.00  "
      ]
     },
     "execution_count": 4,
     "metadata": {},
     "output_type": "execute_result"
    }
   ],
   "source": [
    "df2.head(10)"
   ]
  },
  {
   "cell_type": "code",
   "execution_count": 26,
   "metadata": {
    "collapsed": false
   },
   "outputs": [
    {
     "data": {
      "text/plain": [
       "Mann Co. Supply Crate                               1476\n",
       "Team Captain                                         900\n",
       "Villain's Veil                                       800\n",
       "Master's Yellow Belt                                 752\n",
       "Détective Noir                                       727\n",
       "Glengarry Bonnet                                     726\n",
       "Prince Tavish's Crown                                686\n",
       "Le Party Phantom                                     686\n",
       "Pyromancer's Mask                                    676\n",
       "Frenchman's Beret                                    674\n",
       "Magistrate's Mullet                                  651\n",
       "Vintage Tyrolean                                     624\n",
       "Charmer's Chapeau                                    622\n",
       "Dr's Dapper Topper                                   585\n",
       "Backbiter's Billycock                                568\n",
       "Bloke's Bucket Hat                                   545\n",
       "Merc's Pride Scarf                                   536\n",
       "Noh Mercy                                            531\n",
       "Your Worst Nightmare                                 520\n",
       "Ol' Snaggletooth                                     516\n",
       "Lucky Shot                                           504\n",
       "Large Luchadore                                      502\n",
       "Bombing Run                                          502\n",
       "Prussian Pickelhaube                                 498\n",
       "Fed-Fightin' Fedora                                  473\n",
       "Earbuds                                              468\n",
       "Liquidator's Lid                                     464\n",
       "Hotrod                                               444\n",
       "Berliner's Bucket Helm                               444\n",
       "Exquisite Rack                                       427\n",
       "                                                    ... \n",
       "Lieutenant Bites the Dust                              2\n",
       "Medic Costume Transmogrifier                           2\n",
       "One-Way Ticket                                         2\n",
       "Bombinomicon                                           2\n",
       "Something Special For Someone Special                  2\n",
       "Australium Flame Thrower                               2\n",
       "Surgeon's Space Suit                                   2\n",
       "Medi Gun                                               2\n",
       "Guano                                                  2\n",
       "Lo-Grav Loafers                                        2\n",
       "Bozo's Bouffant                                        2\n",
       "Engineer Costume Transmogrifier                        2\n",
       "Class Token - Soldier                                  2\n",
       "Australium Stickybomb Launcher                         2\n",
       "Slot Token - Secondary                                 2\n",
       "Rugged Respirator                                      2\n",
       "Cryptic Keepsake                                       2\n",
       "Scorched Skirt                                         2\n",
       "Class Token - Medic                                    2\n",
       "Australium Axtinguisher                                1\n",
       "Haunted Metal Scrap                                    1\n",
       "Gentle Munitionne of Leisure                           1\n",
       "Demo Costume Transmogrifier                            1\n",
       "Scout Costume Transmogrifier                           1\n",
       "Nice Winter Crate Key                                  1\n",
       "Full Head Of Steam                                     1\n",
       "Spy Costume Transmogrifier                             1\n",
       "Reclaimed Metal                                        1\n",
       "Something Special For Someone Special [Glitched]       1\n",
       "Soldier Costume Transmogrifier                         1\n",
       "Name: Name, dtype: int64"
      ]
     },
     "execution_count": 26,
     "metadata": {},
     "output_type": "execute_result"
    }
   ],
   "source": [
    "item_counts=df2['Name'].value_counts()\n",
    "item_counts"
   ]
  },
  {
   "cell_type": "code",
   "execution_count": 37,
   "metadata": {
    "collapsed": false
   },
   "outputs": [],
   "source": [
    "count = 0\n",
    "mostPopular = []\n",
    "for key, value in item_counts.iteritems():\n",
    "    if count == 6:\n",
    "        break\n",
    "    mostPopular.append(key)\n",
    "    count = count + 1"
   ]
  },
  {
   "cell_type": "code",
   "execution_count": 39,
   "metadata": {
    "collapsed": false
   },
   "outputs": [
    {
     "data": {
      "text/plain": [
       "['Mann Co. Supply Crate',\n",
       " 'Team Captain',\n",
       " \"Villain's Veil\",\n",
       " \"Master's Yellow Belt\",\n",
       " 'Glengarry Bonnet']"
      ]
     },
     "execution_count": 39,
     "metadata": {},
     "output_type": "execute_result"
    }
   ],
   "source": [
    "mostPopular.remove('D\\xc3\\xa9tective Noir')\n",
    "mostPopular"
   ]
  },
  {
   "cell_type": "code",
   "execution_count": null,
   "metadata": {
    "collapsed": true
   },
   "outputs": [],
   "source": []
  },
  {
   "cell_type": "code",
   "execution_count": null,
   "metadata": {
    "collapsed": true
   },
   "outputs": [],
   "source": []
  },
  {
   "cell_type": "code",
   "execution_count": null,
   "metadata": {
    "collapsed": true
   },
   "outputs": [],
   "source": []
  },
  {
   "cell_type": "markdown",
   "metadata": {},
   "source": [
    "df = df2.groupby('Name')\n",
    "df = df[df['Name'].value_counts() < 700]"
   ]
  },
  {
   "cell_type": "markdown",
   "metadata": {},
   "source": [
    "df.plot(x=df['DateTime'], y=df['value'])"
   ]
  }
 ],
 "metadata": {
  "kernelspec": {
   "display_name": "Python 2",
   "language": "python",
   "name": "python2"
  },
  "language_info": {
   "codemirror_mode": {
    "name": "ipython",
    "version": 2
   },
   "file_extension": ".py",
   "mimetype": "text/x-python",
   "name": "python",
   "nbconvert_exporter": "python",
   "pygments_lexer": "ipython2",
   "version": "2.7.11"
  }
 },
 "nbformat": 4,
 "nbformat_minor": 0
}
