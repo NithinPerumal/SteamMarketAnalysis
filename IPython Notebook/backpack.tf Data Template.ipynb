{
 "cells": [
  {
   "cell_type": "markdown",
   "metadata": {},
   "source": [
    "# Streaming Data Template"
   ]
  },
  {
   "cell_type": "markdown",
   "metadata": {},
   "source": [
    "### -----\n"
   ]
  },
  {
   "cell_type": "code",
   "execution_count": 20,
   "metadata": {
    "collapsed": false
   },
   "outputs": [],
   "source": [
    "import requests;                                 # import package used to downlaod data from a web URL\n",
    "import json;\n",
    "import pandas as pd;\n",
    "import seaborn as sns;\n",
    "import matplotlib.pyplot as plt;\n",
    "import matplotlib;\n",
    "matplotlib.style.use('ggplot');\n",
    "%matplotlib inline"
   ]
  },
  {
   "cell_type": "code",
   "execution_count": 21,
   "metadata": {
    "collapsed": false
   },
   "outputs": [],
   "source": [
    "with open('API Keys.txt', 'r') as keyfile:\n",
    "    apiKeys=keyfile.read().split('\\n')\n",
    "   \n",
    "url = 'http://backpack.tf/api/IGetPrices/v4/?key=' + apiKeys[0];        # web address of data stream\n",
    "data_stream = requests.get(url,stream=True);                                    # create an iterable data stream object"
   ]
  },
  {
   "cell_type": "code",
   "execution_count": 22,
   "metadata": {
    "collapsed": false
   },
   "outputs": [
    {
     "name": "stdout",
     "output_type": "stream",
     "text": [
      "{u'prices': {u'6': {u'Tradable': {u'Non-Craftable': {u'0': {u'currency': u'metal', u'difference': 0.23, u'value': 2, u'last_update': 1438113663}}, u'Craftable': {u'0': {u'currency': u'metal', u'difference': 0.17, u'value': 2, u'last_update': 1379254675}}}}}, u'defindex': [781]}\n"
     ]
    }
   ],
   "source": [
    "rec = data_stream.iter_lines().next().strip() # Necessary before reading data\n",
    "record = json.loads(rec)            # convert the json record to a python dictionary\n",
    "print record['response']['items']['Dillinger\\'s Duffel']\n",
    "\n",
    "# load multiple records at once (There probably is a better way to do this.)\n",
    "#num_records  = 1000\n",
    "#records = []\n",
    "#for k in range(num_records):\n",
    "#    rec = data_stream.iter_lines().next().strip()\n",
    "#    records.append(rec)\n",
    "#records = ','.join(records)\n",
    "#records = '['+records+']'"
   ]
  },
  {
   "cell_type": "code",
   "execution_count": 23,
   "metadata": {
    "collapsed": false
   },
   "outputs": [],
   "source": [
    "df = pd.read_json(rec)\n",
    "# df = df.drop_duplicates('_id') # IMPORTANT: Remove duplicate people\n",
    "df.to_csv('itemOut.csv', sep='\\t', encoding='utf-8')\n",
    "#df = df.drop(['_id', 'al', 'cy', 'g', 'gr', 'h', 'hc', 'hh', 'i', 'k', 'l', 'll', 'mc', 'nk', 't', 'tz', 'u'], axis=1)"
   ]
  },
  {
   "cell_type": "code",
   "execution_count": 24,
   "metadata": {
    "collapsed": false
   },
   "outputs": [
    {
     "data": {
      "text/html": [
       "<div>\n",
       "<table border=\"1\" class=\"dataframe\">\n",
       "  <thead>\n",
       "    <tr style=\"text-align: right;\">\n",
       "      <th></th>\n",
       "      <th>response</th>\n",
       "    </tr>\n",
       "  </thead>\n",
       "  <tbody>\n",
       "    <tr>\n",
       "      <th>current_time</th>\n",
       "      <td>1454034041</td>\n",
       "    </tr>\n",
       "    <tr>\n",
       "      <th>items</th>\n",
       "      <td>{u'Dillinger's Duffel': {u'prices': {u'6': {u'...</td>\n",
       "    </tr>\n",
       "    <tr>\n",
       "      <th>raw_usd_value</th>\n",
       "      <td>0.12</td>\n",
       "    </tr>\n",
       "    <tr>\n",
       "      <th>success</th>\n",
       "      <td>1</td>\n",
       "    </tr>\n",
       "    <tr>\n",
       "      <th>usd_currency</th>\n",
       "      <td>metal</td>\n",
       "    </tr>\n",
       "  </tbody>\n",
       "</table>\n",
       "</div>"
      ],
      "text/plain": [
       "                                                        response\n",
       "current_time                                          1454034041\n",
       "items          {u'Dillinger's Duffel': {u'prices': {u'6': {u'...\n",
       "raw_usd_value                                               0.12\n",
       "success                                                        1\n",
       "usd_currency                                               metal"
      ]
     },
     "execution_count": 24,
     "metadata": {},
     "output_type": "execute_result"
    }
   ],
   "source": [
    "df.head()"
   ]
  },
  {
   "cell_type": "code",
   "execution_count": null,
   "metadata": {
    "collapsed": false
   },
   "outputs": [],
   "source": [
    "fileName = './itemOut.csv'\n",
    "dfr = pd.read_csv(fileName)"
   ]
  },
  {
   "cell_type": "code",
   "execution_count": null,
   "metadata": {
    "collapsed": true
   },
   "outputs": [],
   "source": []
  }
 ],
 "metadata": {
  "kernelspec": {
   "display_name": "Python 2",
   "language": "python",
   "name": "python2"
  },
  "language_info": {
   "codemirror_mode": {
    "name": "ipython",
    "version": 2
   },
   "file_extension": ".py",
   "mimetype": "text/x-python",
   "name": "python",
   "nbconvert_exporter": "python",
   "pygments_lexer": "ipython2",
   "version": "2.7.11"
  }
 },
 "nbformat": 4,
 "nbformat_minor": 0
}
