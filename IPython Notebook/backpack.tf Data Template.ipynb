{
 "cells": [
  {
   "cell_type": "markdown",
   "metadata": {},
   "source": [
    "# Streaming Data Template"
   ]
  },
  {
   "cell_type": "markdown",
   "metadata": {},
   "source": [
    "### -----\n",
    "\n",
    "### This workbook creates a graph that displays the number of web page accesses from several countries, separated by the operating systems they use.\n"
   ]
  },
  {
   "cell_type": "code",
   "execution_count": 1,
   "metadata": {
    "collapsed": false
   },
   "outputs": [
    {
     "name": "stderr",
     "output_type": "stream",
     "text": [
      "C:\\Users\\knispeja\\Anaconda2\\lib\\site-packages\\matplotlib\\__init__.py:872: UserWarning: axes.color_cycle is deprecated and replaced with axes.prop_cycle; please use the latter.\n",
      "  warnings.warn(self.msg_depr % (key, alt_key))\n"
     ]
    }
   ],
   "source": [
    "import requests;                                 # import package used to downlaod data from a web URL\n",
    "import json;\n",
    "import pandas as pd;\n",
    "import seaborn as sns;\n",
    "import matplotlib.pyplot as plt;\n",
    "import matplotlib;\n",
    "matplotlib.style.use('ggplot');\n",
    "%matplotlib inline"
   ]
  },
  {
   "cell_type": "code",
   "execution_count": 3,
   "metadata": {
    "collapsed": false
   },
   "outputs": [],
   "source": [
    "with open('API Keys.txt', 'r') as keyfile:\n",
    "    apiKeys=keyfile.read().split('\\n')\n",
    "   \n",
    "url = 'http://backpack.tf/api/IGetPrices/v4/?key=' + apiKeys[0];        # web address of data stream\n",
    "data_stream = requests.get(url,stream=True);                                    # create an iterable data stream object"
   ]
  },
  {
   "cell_type": "code",
   "execution_count": 4,
   "metadata": {
    "collapsed": false
   },
   "outputs": [
    {
     "name": "stdout",
     "output_type": "stream",
     "text": [
      "{u'prices': {u'6': {u'Tradable': {u'Non-Craftable': {u'0': {u'currency': u'metal', u'difference': 0.23, u'value': 2, u'last_update': 1438113663}}, u'Craftable': {u'0': {u'currency': u'metal', u'difference': 0.17, u'value': 2, u'last_update': 1379254675}}}}}, u'defindex': [781]}\n"
     ]
    }
   ],
   "source": [
    "rec = data_stream.iter_lines().next().strip() # Necessary before reading data\n",
    "record = json.loads(rec)            # convert the json record to a python dictionary\n",
    "print record['response']['items']['Dillinger\\'s Duffel']\n",
    "\n",
    "# load multiple records at once (There probably is a better way to do this.)\n",
    "#num_records  = 1000\n",
    "#records = []\n",
    "#for k in range(num_records):\n",
    "#    rec = data_stream.iter_lines().next().strip()\n",
    "#    records.append(rec)\n",
    "#records = ','.join(records)\n",
    "#records = '['+records+']'"
   ]
  },
  {
   "cell_type": "code",
   "execution_count": 408,
   "metadata": {
    "collapsed": false
   },
   "outputs": [],
   "source": [
    "#df = pd.read_json(records)\n",
    "#df = df.drop_duplicates('_id') # IMPORTANT: Remove duplicate people\n",
    "#df = df.drop(['_id', 'al', 'cy', 'g', 'gr', 'h', 'hc', 'hh', 'i', 'k', 'l', 'll', 'mc', 'nk', 't', 'tz', 'u'], axis=1)"
   ]
  }
 ],
 "metadata": {
  "kernelspec": {
   "display_name": "Python 2",
   "language": "python",
   "name": "python2"
  },
  "language_info": {
   "codemirror_mode": {
    "name": "ipython",
    "version": 2
   },
   "file_extension": ".py",
   "mimetype": "text/x-python",
   "name": "python",
   "nbconvert_exporter": "python",
   "pygments_lexer": "ipython2",
   "version": "2.7.11"
  }
 },
 "nbformat": 4,
 "nbformat_minor": 0
}
