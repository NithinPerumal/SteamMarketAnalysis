{
 "cells": [
  {
   "cell_type": "markdown",
   "metadata": {},
   "source": [
    "# Streaming Data Template"
   ]
  },
  {
   "cell_type": "markdown",
   "metadata": {},
   "source": [
    "### -----\n",
    "\n",
    "### This workbook creates a graph that displays the number of web page accesses from several countries, separated by the operating systems they use.\n"
   ]
  },
  {
   "cell_type": "code",
   "execution_count": 26,
   "metadata": {
    "collapsed": false
   },
   "outputs": [],
   "source": [
    "import requests;                                 # import package used to downlaod data from a web URL\n",
    "import pandas as pd;\n",
    "import seaborn as sns;\n",
    "import matplotlib.pyplot as plt;\n",
    "import matplotlib;\n",
    "matplotlib.style.use('ggplot');\n",
    "%matplotlib inline"
   ]
  },
  {
   "cell_type": "code",
   "execution_count": 27,
   "metadata": {
    "collapsed": false
   },
   "outputs": [],
   "source": [
    "with open('API Key.txt', 'r') as keyfile:\n",
    "    apikey=keyfile.read().replace('\\n', '')\n",
    "\n",
    "url = 'http://backpack.tf/api/IGetPrices/v4/?key=' + apikey;        # web address of data stream\n",
    "data_stream = requests.get(url);                                    # create an iterable data stream object"
   ]
  },
  {
   "cell_type": "code",
   "execution_count": null,
   "metadata": {
    "collapsed": false
   },
   "outputs": [],
   "source": [
    "data_stream.iter_lines().next().strip() # Necessary before beginning to read data\n",
    "# load multiple records at once (There probably is a better way to do this.)\n",
    "num_records  = 1000\n",
    "records = []\n",
    "for k in range(num_records):\n",
    "    rec = data_stream.iter_lines().next().strip()\n",
    "    records.append(rec)\n",
    "records = ','.join(records)\n",
    "records = '['+records+']'"
   ]
  },
  {
   "cell_type": "code",
   "execution_count": 408,
   "metadata": {
    "collapsed": false
   },
   "outputs": [],
   "source": [
    "df = pd.read_json(records)\n",
    "df = df.drop_duplicates('_id') # IMPORTANT: Remove duplicate people\n",
    "df = df.drop(['_id', 'al', 'cy', 'g', 'gr', 'h', 'hc', 'hh', 'i', 'k', 'l', 'll', 'mc', 'nk', 't', 'tz', 'u'], axis=1)"
   ]
  },
  {
   "cell_type": "code",
   "execution_count": 409,
   "metadata": {
    "collapsed": false
   },
   "outputs": [],
   "source": [
    "def findOS(row):\n",
    "    agent = row['a']\n",
    "    if agent.find('Macintosh') >= 0:\n",
    "        val = 'Mac'\n",
    "    elif agent.find('iPhone') >= 0:\n",
    "        val = 'iPhone'\n",
    "    elif agent.find('Android') >= 0:\n",
    "        val = 'Android'\n",
    "    elif agent.find('Windows NT') >= 0:\n",
    "        val = 'Windows PC'\n",
    "    else:\n",
    "        val = 'Other'\n",
    "    return val"
   ]
  },
  {
   "cell_type": "code",
   "execution_count": 410,
   "metadata": {
    "collapsed": false
   },
   "outputs": [],
   "source": [
    "df['OS'] = df.apply(findOS, axis=1)"
   ]
  },
  {
   "cell_type": "code",
   "execution_count": 413,
   "metadata": {
    "collapsed": false
   },
   "outputs": [
    {
     "data": {
      "image/png": "[encoded data removed]",
      "text/plain": [
       "<matplotlib.figure.Figure at 0x2b803a58>"
      ]
     },
     "metadata": {},
     "output_type": "display_data"
    }
   ],
   "source": [
    "newdf = df;\n",
    "newdf = newdf.groupby(['OS', 'c']).size().reset_index();\n",
    "newdf.columns.values[2] = \"Count\";\n",
    "\n",
    "# Remove rows with only 1 or 2 entries to avoid clutter\n",
    "newdf = newdf.drop(newdf[newdf['Count'] < 3].index);\n",
    "\n",
    "newdf = newdf.set_index(['OS', 'c']);\n",
    "newdf = newdf.unstack('OS');\n",
    "\n",
    "newdf = newdf.drop(['CA', 'VN', 'CN', 'SV']);\n",
    "\n",
    "plot = newdf.plot.bar(figsize=(10, 2.8));\n",
    "plt.setp(plot.xaxis.get_majorticklabels(), rotation=0);"
   ]
  },
  {
   "cell_type": "markdown",
   "metadata": {},
   "source": [
    "### After running this workbook a few times and looking at the graph each time, it is evident that the US is the most common accessor of gov't websites, shortly followed by Germany, Poland, and France. It is clear that mobile devices are the most popular devices to use in the US, followed by Windows PCs. In France, interestingly, Macs are more common each time I run this."
   ]
  }
 ],
 "metadata": {
  "kernelspec": {
   "display_name": "Python 2",
   "language": "python",
   "name": "python2"
  },
  "language_info": {
   "codemirror_mode": {
    "name": "ipython",
    "version": 2
   },
   "file_extension": ".py",
   "mimetype": "text/x-python",
   "name": "python",
   "nbconvert_exporter": "python",
   "pygments_lexer": "ipython2",
   "version": "2.7.11"
  }
 },
 "nbformat": 4,
 "nbformat_minor": 0
}
